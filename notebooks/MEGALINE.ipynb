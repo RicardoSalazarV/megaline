{
 "cells": [
  {
   "cell_type": "markdown",
   "metadata": {
    "id": "3rYiDeEH0q0f"
   },
   "source": [
    "# ¿Cuál es la mejor tarifa?\n",
    "\n",
    "Trabajas como analista para el operador de telecomunicaciones Megaline. La empresa ofrece a sus clientes dos tarifas de prepago, Surf y Ultimate. El departamento comercial quiere saber cuál de las tarifas genera más ingresos para poder ajustar el presupuesto de publicidad.\n",
    "\n",
    "Vas a realizar un análisis preliminar de las tarifas basado en una selección de clientes relativamente pequeña. Tendrás los datos de 500 clientes de Megaline: quiénes son los clientes, de dónde son, qué tarifa usan, así como la cantidad de llamadas que hicieron y los mensajes de texto que enviaron en 2018. Tu trabajo es analizar el comportamiento de los clientes y determinar qué tarifa de prepago genera más ingresos."
   ]
  },
  {
   "cell_type": "markdown",
   "metadata": {
    "id": "MQi4IPy70q0y"
   },
   "source": [
    "## Inicialización"
   ]
  },
  {
   "cell_type": "markdown",
   "metadata": {
    "id": "VNddPNRQ0q0w"
   },
   "source": [
    "Para realizar un oportuno análisis de los datos proporcionados, primero deberemos identificar los \"errores\" que estén en cada uno de los dataframes. Necesitaremos convertir todo dato que sea materia prima para futuros cálculos en el tipo \"int\" y las fechas a \"datetime\". Esto permitirá el flujo de trabajo en las futuras líneas que requieran cálculos matemáticos o agrupaciones.\n",
    "\n",
    "Para lograr, en la parte final de este proyecto, analizar estadísticamente la información, deberemos entender los resultados de nuestro primer análisis. A través de recursos gráficos como histogramas, gráficas y gráficas de caja, podremos diseñar un experimento que nos permita justificar la hipótesis que seleccionemos.\n",
    "\n"
   ]
  },
  {
   "cell_type": "code",
   "execution_count": 163,
   "metadata": {
    "id": "MtYIuBxu0q0z"
   },
   "outputs": [],
   "source": [
    "import pandas as pd\n",
    "from matplotlib import pyplot as plt\n",
    "import numpy as np\n",
    "import math as mt \n",
    "from math import factorial\n",
    "import seaborn as sns\n",
    "from scipy import stats"
   ]
  },
  {
   "cell_type": "markdown",
   "metadata": {
    "id": "4ysWWC5i0q00"
   },
   "source": [
    "## Cargar datos"
   ]
  },
  {
   "cell_type": "code",
   "execution_count": 2,
   "metadata": {
    "id": "CCqPW7rS0q01"
   },
   "outputs": [],
   "source": [
    "calls= pd.read_csv(\"/datasets/megaline_calls.csv\") \n",
    "internet= pd.read_csv(\"/datasets/megaline_internet.csv\")\n",
    "messages=pd.read_csv(\"/datasets/megaline_messages.csv\") \n",
    "plans=pd.read_csv(\"/datasets/megaline_plans.csv\") \n",
    "users=pd.read_csv(\"/datasets/megaline_users.csv\")\n"
   ]
  },
  {
   "cell_type": "markdown",
   "metadata": {
    "id": "69qqoJ3r0q01"
   },
   "source": [
    "## Preparar los datos"
   ]
  },
  {
   "cell_type": "markdown",
   "metadata": {
    "id": "ohBhimvH0q01"
   },
   "source": [
    "## Tarifas"
   ]
  },
  {
   "cell_type": "code",
   "execution_count": 3,
   "metadata": {
    "id": "GptqP3Q40q02"
   },
   "outputs": [
    {
     "name": "stdout",
     "output_type": "stream",
     "text": [
      "<class 'pandas.core.frame.DataFrame'>\n",
      "RangeIndex: 2 entries, 0 to 1\n",
      "Data columns (total 8 columns):\n",
      " #   Column                 Non-Null Count  Dtype  \n",
      "---  ------                 --------------  -----  \n",
      " 0   messages_included      2 non-null      int64  \n",
      " 1   mb_per_month_included  2 non-null      int64  \n",
      " 2   minutes_included       2 non-null      int64  \n",
      " 3   usd_monthly_pay        2 non-null      int64  \n",
      " 4   usd_per_gb             2 non-null      int64  \n",
      " 5   usd_per_message        2 non-null      float64\n",
      " 6   usd_per_minute         2 non-null      float64\n",
      " 7   plan_name              2 non-null      object \n",
      "dtypes: float64(2), int64(5), object(1)\n",
      "memory usage: 256.0+ bytes\n",
      "None\n"
     ]
    }
   ],
   "source": [
    "print(plans.head().info())"
   ]
  },
  {
   "cell_type": "code",
   "execution_count": 66,
   "metadata": {
    "id": "64xzjwL70q02"
   },
   "outputs": [
    {
     "name": "stdout",
     "output_type": "stream",
     "text": [
      "   messages_included  mb_per_month_included  minutes_included  \\\n",
      "0                 50                  15360               500   \n",
      "1               1000                  30720              3000   \n",
      "\n",
      "   usd_monthly_pay  usd_per_gb  usd_per_message  usd_per_minute plan_name  \n",
      "0               20          10             0.03            0.03      surf  \n",
      "1               70           7             0.01            0.01  ultimate  \n"
     ]
    }
   ],
   "source": [
    "print(plans.head())"
   ]
  },
  {
   "cell_type": "markdown",
   "metadata": {
    "id": "mEc_3_hs0q02"
   },
   "source": [
    "Para este primer vistazo parece que no requerimos algun ajuste"
   ]
  },
  {
   "cell_type": "markdown",
   "metadata": {
    "id": "R3C05i1l0q03"
   },
   "source": [
    "## Corregir datos"
   ]
  },
  {
   "cell_type": "markdown",
   "metadata": {
    "id": "LJir7bml0q03"
   },
   "source": [
    "## Enriquecer los datos"
   ]
  },
  {
   "cell_type": "markdown",
   "metadata": {
    "id": "1n2X6WXf0q04"
   },
   "source": [
    "## Usuarios/as"
   ]
  },
  {
   "cell_type": "code",
   "execution_count": 5,
   "metadata": {
    "id": "2NgjWFqx0q05"
   },
   "outputs": [
    {
     "name": "stdout",
     "output_type": "stream",
     "text": [
      "<class 'pandas.core.frame.DataFrame'>\n",
      "RangeIndex: 500 entries, 0 to 499\n",
      "Data columns (total 8 columns):\n",
      " #   Column      Non-Null Count  Dtype \n",
      "---  ------      --------------  ----- \n",
      " 0   user_id     500 non-null    int64 \n",
      " 1   first_name  500 non-null    object\n",
      " 2   last_name   500 non-null    object\n",
      " 3   age         500 non-null    int64 \n",
      " 4   city        500 non-null    object\n",
      " 5   reg_date    500 non-null    object\n",
      " 6   plan        500 non-null    object\n",
      " 7   churn_date  34 non-null     object\n",
      "dtypes: int64(2), object(6)\n",
      "memory usage: 31.4+ KB\n",
      "None\n"
     ]
    }
   ],
   "source": [
    "print(users.info())"
   ]
  },
  {
   "cell_type": "code",
   "execution_count": 6,
   "metadata": {
    "id": "1IN1L9uh0q05"
   },
   "outputs": [
    {
     "name": "stdout",
     "output_type": "stream",
     "text": [
      "   user_id first_name  last_name  age                                   city  \\\n",
      "0     1000   Anamaria      Bauer   45  Atlanta-Sandy Springs-Roswell, GA MSA   \n",
      "1     1001     Mickey  Wilkerson   28        Seattle-Tacoma-Bellevue, WA MSA   \n",
      "2     1002     Carlee    Hoffman   36   Las Vegas-Henderson-Paradise, NV MSA   \n",
      "3     1003   Reynaldo    Jenkins   52                          Tulsa, OK MSA   \n",
      "4     1004    Leonila   Thompson   40        Seattle-Tacoma-Bellevue, WA MSA   \n",
      "\n",
      "     reg_date      plan churn_date  \n",
      "0  2018-12-24  ultimate        NaN  \n",
      "1  2018-08-13      surf        NaN  \n",
      "2  2018-10-21      surf        NaN  \n",
      "3  2018-01-28      surf        NaN  \n",
      "4  2018-05-23      surf        NaN  \n"
     ]
    }
   ],
   "source": [
    "print(users.head())"
   ]
  },
  {
   "cell_type": "markdown",
   "metadata": {
    "id": "dCZoUq4f0q06"
   },
   "source": [
    "Basados en el diccionario de datos \"churn_date\" hace refencia a la fecha en que se dejo el servicio, podemos sustituir el valor \"NaN\" por \"0\" para futuros calculos "
   ]
  },
  {
   "cell_type": "markdown",
   "metadata": {
    "id": "BX5FQh_I0q06"
   },
   "source": [
    "### Corregir los datos"
   ]
  },
  {
   "cell_type": "code",
   "execution_count": 7,
   "metadata": {
    "id": "yUqX-K0C0q07"
   },
   "outputs": [
    {
     "name": "stdout",
     "output_type": "stream",
     "text": [
      "<class 'pandas.core.frame.DataFrame'>\n",
      "RangeIndex: 500 entries, 0 to 499\n",
      "Data columns (total 8 columns):\n",
      " #   Column      Non-Null Count  Dtype \n",
      "---  ------      --------------  ----- \n",
      " 0   user_id     500 non-null    int64 \n",
      " 1   first_name  500 non-null    object\n",
      " 2   last_name   500 non-null    object\n",
      " 3   age         500 non-null    int64 \n",
      " 4   city        500 non-null    object\n",
      " 5   reg_date    500 non-null    object\n",
      " 6   plan        500 non-null    object\n",
      " 7   churn_date  500 non-null    object\n",
      "dtypes: int64(2), object(6)\n",
      "memory usage: 31.4+ KB\n",
      "None\n"
     ]
    }
   ],
   "source": [
    "users[\"churn_date\"]=users[\"churn_date\"].fillna(0)\n",
    "print(users.info())\n"
   ]
  },
  {
   "cell_type": "markdown",
   "metadata": {
    "id": "ycwuARJp0q07"
   },
   "source": [
    "### Enriquecer los datos"
   ]
  },
  {
   "cell_type": "markdown",
   "metadata": {
    "id": "o7MeKCid0q08"
   },
   "source": [
    "## Llamadas"
   ]
  },
  {
   "cell_type": "code",
   "execution_count": 8,
   "metadata": {
    "id": "6dDlnoDm0q08"
   },
   "outputs": [
    {
     "name": "stdout",
     "output_type": "stream",
     "text": [
      "<class 'pandas.core.frame.DataFrame'>\n",
      "RangeIndex: 137735 entries, 0 to 137734\n",
      "Data columns (total 4 columns):\n",
      " #   Column     Non-Null Count   Dtype  \n",
      "---  ------     --------------   -----  \n",
      " 0   id         137735 non-null  object \n",
      " 1   user_id    137735 non-null  int64  \n",
      " 2   call_date  137735 non-null  object \n",
      " 3   duration   137735 non-null  float64\n",
      "dtypes: float64(1), int64(1), object(2)\n",
      "memory usage: 4.2+ MB\n",
      "None\n"
     ]
    }
   ],
   "source": [
    "print(calls.info())"
   ]
  },
  {
   "cell_type": "code",
   "execution_count": 9,
   "metadata": {
    "id": "kuh1vlNB0q09"
   },
   "outputs": [
    {
     "name": "stdout",
     "output_type": "stream",
     "text": [
      "         id  user_id   call_date  duration\n",
      "0   1000_93     1000  2018-12-27      8.52\n",
      "1  1000_145     1000  2018-12-27     13.66\n",
      "2  1000_247     1000  2018-12-27     14.48\n",
      "3  1000_309     1000  2018-12-28      5.76\n",
      "4  1000_380     1000  2018-12-30      4.22\n"
     ]
    }
   ],
   "source": [
    "print(calls.head())"
   ]
  },
  {
   "cell_type": "markdown",
   "metadata": {
    "id": "DOAxYJSx0q09"
   },
   "source": [
    "Basados en la primera observacion podemos necesitar los datos relacionados a fechas en formato \"datetime\", esto nos permitira su uso con los metodos correspondientes mas adelante "
   ]
  },
  {
   "cell_type": "markdown",
   "metadata": {
    "id": "S7hzxmbX0q0-"
   },
   "source": [
    "### Corregir los datos"
   ]
  },
  {
   "cell_type": "code",
   "execution_count": 10,
   "metadata": {
    "id": "S2r8xA4f0q0-"
   },
   "outputs": [
    {
     "name": "stdout",
     "output_type": "stream",
     "text": [
      "<class 'pandas.core.frame.DataFrame'>\n",
      "RangeIndex: 137735 entries, 0 to 137734\n",
      "Data columns (total 4 columns):\n",
      " #   Column     Non-Null Count   Dtype         \n",
      "---  ------     --------------   -----         \n",
      " 0   id         137735 non-null  object        \n",
      " 1   user_id    137735 non-null  int64         \n",
      " 2   call_date  137735 non-null  datetime64[ns]\n",
      " 3   duration   137735 non-null  float64       \n",
      "dtypes: datetime64[ns](1), float64(1), int64(1), object(1)\n",
      "memory usage: 4.2+ MB\n",
      "None\n"
     ]
    }
   ],
   "source": [
    "calls[\"call_date\"] = pd.to_datetime(calls[\"call_date\"], format=\"%Y-%m-%d\")\n",
    "print(calls.info())"
   ]
  },
  {
   "cell_type": "markdown",
   "metadata": {
    "id": "KrMgTrlG0q0_"
   },
   "source": [
    "### Enriquecer los datos"
   ]
  },
  {
   "cell_type": "code",
   "execution_count": 34,
   "metadata": {
    "id": "iZ1avpA_0q0_"
   },
   "outputs": [],
   "source": [
    "calls[\"call_date\"] = pd.to_datetime(calls[\"call_date\"])\n",
    "calls[\"month\"] = calls[\"call_date\"].dt.to_period(\"M\")"
   ]
  },
  {
   "cell_type": "markdown",
   "metadata": {
    "id": "mOUZSi180q0_"
   },
   "source": [
    "## Mensajes"
   ]
  },
  {
   "cell_type": "code",
   "execution_count": 11,
   "metadata": {
    "id": "R-bYJpdV0q1A"
   },
   "outputs": [
    {
     "name": "stdout",
     "output_type": "stream",
     "text": [
      "<class 'pandas.core.frame.DataFrame'>\n",
      "RangeIndex: 76051 entries, 0 to 76050\n",
      "Data columns (total 3 columns):\n",
      " #   Column        Non-Null Count  Dtype \n",
      "---  ------        --------------  ----- \n",
      " 0   id            76051 non-null  object\n",
      " 1   user_id       76051 non-null  int64 \n",
      " 2   message_date  76051 non-null  object\n",
      "dtypes: int64(1), object(2)\n",
      "memory usage: 1.7+ MB\n",
      "None\n"
     ]
    }
   ],
   "source": [
    "# Imprime la información general/resumida sobre el DataFrame de los mensajes\n",
    "print(messages.info())\n"
   ]
  },
  {
   "cell_type": "code",
   "execution_count": 12,
   "metadata": {
    "id": "mCEl2iGE0q1A"
   },
   "outputs": [
    {
     "name": "stdout",
     "output_type": "stream",
     "text": [
      "         id  user_id message_date\n",
      "0  1000_125     1000   2018-12-27\n",
      "1  1000_160     1000   2018-12-31\n",
      "2  1000_223     1000   2018-12-31\n",
      "3  1000_251     1000   2018-12-27\n",
      "4  1000_255     1000   2018-12-26\n"
     ]
    }
   ],
   "source": [
    "# Imprime una muestra de datos para los mensajes\n",
    "\n",
    "print(messages.head())"
   ]
  },
  {
   "cell_type": "markdown",
   "metadata": {
    "id": "04xDj7KH0q1A"
   },
   "source": [
    "Basados en la primera observacion podemos necesitar los datos relacionados a fechas en formato \"datetime\", esto nos permitira su uso con los metodos correspondientes mas adelante "
   ]
  },
  {
   "cell_type": "markdown",
   "metadata": {
    "id": "Sprfak900q1B"
   },
   "source": [
    "### Corregir los datos"
   ]
  },
  {
   "cell_type": "code",
   "execution_count": 110,
   "metadata": {
    "id": "vsllvkoa0q1B"
   },
   "outputs": [],
   "source": [
    "messages[\"message_date\"] = pd.to_datetime(messages[\"message_date\"], format=\"%Y-%m-%d\")\n"
   ]
  },
  {
   "cell_type": "markdown",
   "metadata": {
    "id": "HvLid7iD0q1B"
   },
   "source": [
    "### Enriquecer los datos"
   ]
  },
  {
   "cell_type": "code",
   "execution_count": 112,
   "metadata": {
    "id": "zYEXZac10q1C"
   },
   "outputs": [
    {
     "name": "stdout",
     "output_type": "stream",
     "text": [
      "   user_id    month  messages_count\n",
      "0     1000  2018-12              11\n",
      "1     1001  2018-08              30\n",
      "2     1001  2018-09              44\n",
      "3     1001  2018-10              53\n",
      "4     1001  2018-11              36\n"
     ]
    }
   ],
   "source": [
    "\n",
    "messages[\"month\"] = pd.to_datetime(messages[\"message_date\"]).dt.to_period(\"M\")\n",
    "messages_per_month = (\n",
    "    messages.groupby([\"user_id\", \"month\"])\n",
    "    .size()\n",
    "    .reset_index(name=\"messages_count\")\n",
    ")\n",
    "\n",
    "print(messages_per_month.head())"
   ]
  },
  {
   "cell_type": "markdown",
   "metadata": {
    "id": "bStkaxn40q1C"
   },
   "source": [
    "## Internet"
   ]
  },
  {
   "cell_type": "code",
   "execution_count": 113,
   "metadata": {
    "id": "e-Uz5qyn0q1C"
   },
   "outputs": [
    {
     "name": "stdout",
     "output_type": "stream",
     "text": [
      "<class 'pandas.core.frame.DataFrame'>\n",
      "Int64Index: 91078 entries, 0 to 104824\n",
      "Data columns (total 6 columns):\n",
      " #   Column        Non-Null Count  Dtype         \n",
      "---  ------        --------------  -----         \n",
      " 0   id            91078 non-null  object        \n",
      " 1   user_id       91078 non-null  int64         \n",
      " 2   session_date  91078 non-null  datetime64[ns]\n",
      " 3   mb_used       91078 non-null  float64       \n",
      " 4   usage_mb      91078 non-null  float64       \n",
      " 5   month         91078 non-null  period[M]     \n",
      "dtypes: datetime64[ns](1), float64(2), int64(1), object(1), period[M](1)\n",
      "memory usage: 6.9+ MB\n",
      "None\n"
     ]
    }
   ],
   "source": [
    "# Imprime la información general/resumida sobre el DataFrame de internet\n",
    "\n",
    "print(internet.info())"
   ]
  },
  {
   "cell_type": "code",
   "execution_count": 114,
   "metadata": {
    "id": "9r3x_XLw0q1C"
   },
   "outputs": [
    {
     "name": "stdout",
     "output_type": "stream",
     "text": [
      "         id  user_id session_date  mb_used  usage_mb    month\n",
      "0   1000_13     1000   2018-12-29    89.86      90.0  2018-12\n",
      "2  1000_379     1000   2018-12-28   660.40     661.0  2018-12\n",
      "3  1000_413     1000   2018-12-26   270.99     271.0  2018-12\n",
      "4  1000_442     1000   2018-12-27   880.22     881.0  2018-12\n",
      "5    1001_0     1001   2018-08-24   284.68     285.0  2018-08\n"
     ]
    }
   ],
   "source": [
    "# Imprime una muestra de datos para el tráfico de internet\n",
    "\n",
    "print(internet.head())"
   ]
  },
  {
   "cell_type": "markdown",
   "metadata": {
    "id": "EzOG5ik30q1D"
   },
   "source": [
    "Basados en la primera observacion podemos necesitar los datos relacionados a fechas en formato \"datetime\", esto nos permitira su uso con los metodos correspondientes mas adelante "
   ]
  },
  {
   "cell_type": "markdown",
   "metadata": {
    "id": "yA0tkPFg0q1D"
   },
   "source": [
    "### Corregir los datos"
   ]
  },
  {
   "cell_type": "code",
   "execution_count": 115,
   "metadata": {
    "id": "zVeanzdd0q1E"
   },
   "outputs": [],
   "source": [
    "internet[\"session_date\"] = pd.to_datetime(internet[\"session_date\"], format=\"%Y-%m-%d\")\n"
   ]
  },
  {
   "cell_type": "markdown",
   "metadata": {
    "id": "e8_mLF4a0q1E"
   },
   "source": [
    "### Enriquecer los datos"
   ]
  },
  {
   "cell_type": "code",
   "execution_count": 178,
   "metadata": {
    "id": "ESiYPIEK0q1E"
   },
   "outputs": [
    {
     "name": "stdout",
     "output_type": "stream",
     "text": [
      "         id  user_id session_date  mb_used  usage_mb    month\n",
      "0   1000_13     1000   2018-12-29    89.86      90.0  2018-12\n",
      "2  1000_379     1000   2018-12-28   660.40     661.0  2018-12\n",
      "3  1000_413     1000   2018-12-26   270.99     271.0  2018-12\n",
      "4  1000_442     1000   2018-12-27   880.22     881.0  2018-12\n",
      "5    1001_0     1001   2018-08-24   284.68     285.0  2018-08\n"
     ]
    }
   ],
   "source": [
    "internet = internet[internet[\"mb_used\"] > 0]\n",
    "internet[\"mb_used\"] = pd.to_numeric(internet[\"mb_used\"], errors=\"coerce\")\n",
    "# Regla 1: Todo consumo menor a 1 MB se convierte en 1 MB\n",
    "internet[\"mb_used\"] = np.where(internet[\"mb_used\"] < 1, 1, internet[\"mb_used\"])\n",
    "\n",
    "# Regla 2: Redondeo hacia arriba para valores decimales\n",
    "internet[\"usage_mb\"] = np.ceil(internet[\"mb_used\"])\n",
    "internet = internet.dropna(subset=[\"user_id\", \"mb_used\"])\n",
    "internet[\"month\"] = internet[\"session_date\"].dt.to_period(\"M\")\n",
    "internet[\"usage_mb\"] = np.ceil(internet[\"usage_mb\"])\n",
    "print(internet.head())\n"
   ]
  },
  {
   "cell_type": "markdown",
   "metadata": {
    "id": "3UA2cqIW0q1E"
   },
   "source": [
    "## Estudiar las condiciones de las tarifas"
   ]
  },
  {
   "cell_type": "code",
   "execution_count": 117,
   "metadata": {
    "id": "i409op8p0q1F"
   },
   "outputs": [
    {
     "name": "stdout",
     "output_type": "stream",
     "text": [
      "<class 'pandas.core.frame.DataFrame'>\n",
      "RangeIndex: 2 entries, 0 to 1\n",
      "Data columns (total 8 columns):\n",
      " #   Column                 Non-Null Count  Dtype  \n",
      "---  ------                 --------------  -----  \n",
      " 0   messages_included      2 non-null      int64  \n",
      " 1   mb_per_month_included  2 non-null      int64  \n",
      " 2   minutes_included       2 non-null      int64  \n",
      " 3   usd_monthly_pay        2 non-null      int64  \n",
      " 4   usd_per_gb             2 non-null      int64  \n",
      " 5   usd_per_message        2 non-null      float64\n",
      " 6   usd_per_minute         2 non-null      float64\n",
      " 7   plan_name              2 non-null      object \n",
      "dtypes: float64(2), int64(5), object(1)\n",
      "memory usage: 256.0+ bytes\n",
      "None\n",
      "   messages_included  mb_per_month_included  minutes_included  \\\n",
      "0                 50                  15360               500   \n",
      "1               1000                  30720              3000   \n",
      "\n",
      "   usd_monthly_pay  usd_per_gb  usd_per_message  usd_per_minute plan_name  \n",
      "0               20          10             0.03            0.03      surf  \n",
      "1               70           7             0.01            0.01  ultimate  \n"
     ]
    }
   ],
   "source": [
    "# Imprime las condiciones de la tarifa y asegúrate de que te quedan claras\n",
    "\n",
    "print(plans.info())\n",
    "print(plans.head())"
   ]
  },
  {
   "cell_type": "markdown",
   "metadata": {
    "id": "hMR1tP5d0q1F"
   },
   "source": [
    "## Agregar datos por usuario\n"
   ]
  },
  {
   "cell_type": "code",
   "execution_count": 118,
   "metadata": {
    "id": "A332cedB0q1G"
   },
   "outputs": [
    {
     "name": "stdout",
     "output_type": "stream",
     "text": [
      "   user_id  call_date  total_minutes    month\n",
      "0     1000 2018-12-26          14.36  2018-12\n",
      "1     1000 2018-12-27          48.26  2018-12\n",
      "2     1000 2018-12-28          29.00  2018-12\n",
      "3     1000 2018-12-29           1.70  2018-12\n",
      "4     1000 2018-12-30           4.22  2018-12\n"
     ]
    }
   ],
   "source": [
    "# Calcula el número de llamadas hechas por cada usuario al mes. Guarda el resultado.\n",
    "\n",
    "calls_per_month = calls.groupby([\"user_id\", \"call_date\"]).agg({'duration': 'sum'}).reset_index()\n",
    "calls_per_month.rename(columns={'duration': 'total_minutes'}, inplace=True)\n",
    "calls_per_month['month'] = pd.to_datetime(calls_per_month['call_date']).dt.to_period('M')\n",
    "print(calls_per_month.head())"
   ]
  },
  {
   "cell_type": "code",
   "execution_count": 119,
   "metadata": {
    "id": "aw2cmuql0q1G"
   },
   "outputs": [
    {
     "name": "stdout",
     "output_type": "stream",
     "text": [
      "   user_id  call_date  total_minutes    month\n",
      "0     1000 2018-12-26          14.36  2018-12\n",
      "1     1000 2018-12-27          48.26  2018-12\n",
      "2     1000 2018-12-28          29.00  2018-12\n",
      "3     1000 2018-12-29           1.70  2018-12\n",
      "4     1000 2018-12-30           4.22  2018-12\n"
     ]
    }
   ],
   "source": [
    "# Calcula la cantidad de minutos usados por cada usuario al mes. Guarda el resultado.\n",
    "\n",
    "user_call_summary_by_date = (\n",
    "    calls.groupby([\"user_id\", \"call_date\"])\n",
    "    .agg(total_minutes=(\"duration\", \"sum\"))\n",
    "    .reset_index()\n",
    ")\n",
    "user_call_summary_by_date['month'] = pd.to_datetime(user_call_summary_by_date['call_date']).dt.to_period('M')\n",
    "print(user_call_summary_by_date.head())"
   ]
  },
  {
   "cell_type": "code",
   "execution_count": 130,
   "metadata": {
    "id": "CcQvNHn60q1G"
   },
   "outputs": [
    {
     "name": "stdout",
     "output_type": "stream",
     "text": [
      "   user_id    month  messages_count\n",
      "0     1000  2018-12              11\n",
      "1     1001  2018-08              30\n",
      "2     1001  2018-09              44\n",
      "3     1001  2018-10              53\n",
      "4     1001  2018-11              36\n"
     ]
    }
   ],
   "source": [
    "# Calcula el número de mensajes enviados por cada usuario al mes. Guarda el resultado.\n",
    "\n",
    "\n",
    "\n",
    "messages[\"month\"] = pd.to_datetime(messages[\"message_date\"]).dt.to_period(\"M\")\n",
    "messages_per_month = (\n",
    "    messages.groupby([\"user_id\", \"month\"])\n",
    "    .size()\n",
    "    .reset_index(name=\"messages_count\")\n",
    ")\n",
    "\n",
    "print(messages_per_month.head())"
   ]
  },
  {
   "cell_type": "code",
   "execution_count": 131,
   "metadata": {
    "id": "H1AqN2eG0q1H"
   },
   "outputs": [
    {
     "name": "stdout",
     "output_type": "stream",
     "text": [
      "   user_id session_date  usage_mb    month\n",
      "0     1000   2018-12-26     271.0  2018-12\n",
      "1     1000   2018-12-27     881.0  2018-12\n",
      "2     1000   2018-12-28     661.0  2018-12\n",
      "3     1000   2018-12-29      90.0  2018-12\n",
      "4     1001   2018-08-15     211.0  2018-08\n"
     ]
    }
   ],
   "source": [
    "# Calcula el volumen del tráfico de Internet usado por cada usuario al mes. Guarda el resultado.\n",
    "\n",
    "\n",
    "internet_per_month = internet.groupby([\"user_id\", \"session_date\"]).agg({'usage_mb': 'sum'}).reset_index()\n",
    "internet_per_month['month'] = pd.to_datetime(internet_per_month['session_date']).dt.to_period('M')\n",
    "print(internet_per_month.head())\n"
   ]
  },
  {
   "cell_type": "code",
   "execution_count": 132,
   "metadata": {
    "id": "FW99ykyf0q1H"
   },
   "outputs": [
    {
     "name": "stdout",
     "output_type": "stream",
     "text": [
      "   user_id            call_date  total_minutes    month  messages_count  \\\n",
      "0     1000  2018-12-26 00:00:00          14.36  2018-12            11.0   \n",
      "1     1000  2018-12-26 00:00:00          14.36  2018-12            11.0   \n",
      "2     1000  2018-12-26 00:00:00          14.36  2018-12            11.0   \n",
      "3     1000  2018-12-26 00:00:00          14.36  2018-12            11.0   \n",
      "4     1000  2018-12-27 00:00:00          48.26  2018-12            11.0   \n",
      "\n",
      "          session_date  usage_mb  \n",
      "0  2018-12-26 00:00:00     271.0  \n",
      "1  2018-12-27 00:00:00     881.0  \n",
      "2  2018-12-28 00:00:00     661.0  \n",
      "3  2018-12-29 00:00:00      90.0  \n",
      "4  2018-12-26 00:00:00     271.0  \n"
     ]
    }
   ],
   "source": [
    "# Fusiona los datos de llamadas, minutos, mensajes e Internet con base en user_id y month\n",
    "summary_per_month = calls_per_month.merge(\n",
    "    messages_per_month, on=[\"user_id\", \"month\"], how=\"outer\"\n",
    ").merge(\n",
    "    internet_per_month, on=[\"user_id\", \"month\"], how=\"outer\"\n",
    ")\n",
    "summary_per_month.fillna(0, inplace=True)\n",
    "print(summary_per_month.head())\n"
   ]
  },
  {
   "cell_type": "code",
   "execution_count": 168,
   "metadata": {
    "id": "0dNOXHag0q1H",
    "scrolled": true
   },
   "outputs": [
    {
     "name": "stdout",
     "output_type": "stream",
     "text": [
      "\n",
      "Resumen final de usuarios activos:\n",
      "   user_id plan_name  total_minutes  messages_count  usage_mb  \\\n",
      "0     1000  ultimate         467.32           264.0   11418.0   \n",
      "1     1001      surf        2395.96          5880.0   97006.0   \n",
      "2     1001      surf        6549.18         25168.0  346658.0   \n",
      "3     1001      surf        8978.64         29256.0  514188.0   \n",
      "4     1001      surf       10923.93         27216.0  518672.0   \n",
      "\n",
      "                                    city  \n",
      "0  Atlanta-Sandy Springs-Roswell, GA MSA  \n",
      "1        Seattle-Tacoma-Bellevue, WA MSA  \n",
      "2        Seattle-Tacoma-Bellevue, WA MSA  \n",
      "3        Seattle-Tacoma-Bellevue, WA MSA  \n",
      "4        Seattle-Tacoma-Bellevue, WA MSA  \n"
     ]
    }
   ],
   "source": [
    "users['churn_date'] = users['churn_date'].replace(0, pd.NaT)\n",
    "monthly_summary = summary_per_month.groupby(['user_id', 'month']).agg(\n",
    "    total_minutes=('total_minutes', 'sum'),\n",
    "    messages_count=('messages_count', 'sum'),\n",
    "    usage_mb=('usage_mb', 'sum')\n",
    ").reset_index()\n",
    "summary_with_users = monthly_summary.merge(\n",
    "    users[['user_id', 'plan', 'churn_date',\"city\"]], on='user_id', how='left'\n",
    ")\n",
    "summary_with_users.rename(columns={'plan': 'plan_name'}, inplace=True)\n",
    "summary_with_plans = summary_with_users.merge(plans, on='plan_name', how='left')\n",
    "summary_with_plans['extra_minutes'] = (\n",
    "    summary_with_plans['total_minutes'] - summary_with_plans['minutes_included']\n",
    ").clip(lower=0)\n",
    "\n",
    "summary_with_plans['extra_messages'] = (\n",
    "    summary_with_plans['messages_count'] - summary_with_plans['messages_included']\n",
    ").clip(lower=0)\n",
    "\n",
    "summary_with_plans['extra_mb'] = (\n",
    "    summary_with_plans['usage_mb'] - summary_with_plans['mb_per_month_included']\n",
    ").clip(lower=0)\n",
    "summary_with_plans['extra_minute_cost'] = summary_with_plans['extra_minutes'] * summary_with_plans['usd_per_minute']\n",
    "summary_with_plans['extra_message_cost'] = summary_with_plans['extra_messages'] * summary_with_plans['usd_per_message']\n",
    "summary_with_plans['extra_mb_cost'] = (summary_with_plans['extra_mb'] / 1024) * summary_with_plans['usd_per_gb']\n",
    "active_users_summary = summary_with_plans[summary_with_plans['churn_date'].isna()]\n",
    "print(\"\\nResumen final de usuarios activos:\")\n",
    "print(active_users_summary[['user_id', 'plan_name', 'total_minutes', 'messages_count', \n",
    "                            'usage_mb',\"city\"]].head())\n"
   ]
  },
  {
   "cell_type": "code",
   "execution_count": 134,
   "metadata": {
    "id": "5FGCf_c60q1I"
   },
   "outputs": [
    {
     "name": "stdout",
     "output_type": "stream",
     "text": [
      "\n",
      "Ingresos mensuales por usuario:\n",
      "   user_id    month  total_income\n",
      "0     1000  2018-12     70.000000\n",
      "1     1001  2018-08   1049.103019\n",
      "2     1001  2018-09   4190.347431\n",
      "3     1001  2018-10   6021.906387\n",
      "4     1001  2018-11   6062.854150\n"
     ]
    }
   ],
   "source": [
    "summary_with_plans['total_minutes'] = summary_with_plans['total_minutes'].fillna(0)\n",
    "summary_with_plans['messages_count'] = summary_with_plans['messages_count'].fillna(0)\n",
    "summary_with_plans['usage_mb'] = summary_with_plans['usage_mb'].fillna(0)\n",
    "summary_with_plans['extra_minutes'] = (\n",
    "    summary_with_plans['total_minutes'] - summary_with_plans['minutes_included']\n",
    ").clip(lower=0)\n",
    "\n",
    "summary_with_plans['extra_messages'] = (\n",
    "    summary_with_plans['messages_count'] - summary_with_plans['messages_included']\n",
    ").clip(lower=0)\n",
    "\n",
    "summary_with_plans['extra_mb'] = (\n",
    "    summary_with_plans['usage_mb'] - summary_with_plans['mb_per_month_included']\n",
    ").clip(lower=0)\n",
    "summary_with_plans['extra_minute_cost'] = summary_with_plans['extra_minutes'] * summary_with_plans['usd_per_minute']\n",
    "summary_with_plans['extra_message_cost'] = summary_with_plans['extra_messages'] * summary_with_plans['usd_per_message']\n",
    "summary_with_plans['extra_mb_cost'] = (summary_with_plans['extra_mb'] / 1024) * summary_with_plans['usd_per_gb']\n",
    "summary_with_plans['total_monthly_cost'] = (\n",
    "    summary_with_plans['usd_monthly_pay'] +\n",
    "    summary_with_plans['extra_minute_cost'] +\n",
    "    summary_with_plans['extra_message_cost'] +\n",
    "    summary_with_plans['extra_mb_cost']\n",
    ")\n",
    "monthly_revenue = summary_with_plans.groupby(['user_id', 'month']).agg(\n",
    "    total_income=('total_monthly_cost', 'sum')\n",
    ").reset_index()\n",
    "print(\"\\nIngresos mensuales por usuario:\")\n",
    "print(monthly_revenue.head())\n"
   ]
  },
  {
   "cell_type": "markdown",
   "metadata": {
    "id": "-jtyHzJb0q1I"
   },
   "source": [
    "## Estudia el comportamiento de usuario"
   ]
  },
  {
   "cell_type": "markdown",
   "metadata": {
    "id": "vtW4CJEe0q1J"
   },
   "source": [
    "### Llamadas"
   ]
  },
  {
   "cell_type": "code",
   "execution_count": 135,
   "metadata": {
    "id": "Jf5v5--k0q1J"
   },
   "outputs": [
    {
     "data": {
      "image/png": "[encoded data removed]",
      "text/plain": [
       "<Figure size 1200x600 with 1 Axes>"
      ]
     },
     "metadata": {},
     "output_type": "display_data"
    }
   ],
   "source": [
    "# Compara la duración promedio de llamadas por cada plan y por cada mes. Traza un gráfico de barras para visualizarla.\n",
    "summary_with_plans['total_minutes'] = summary_with_plans['total_minutes'].fillna(0)\n",
    "avg_call_duration = (\n",
    "    summary_with_plans.groupby(['month', 'plan_name'])\n",
    "    .agg(avg_duration=('total_minutes', 'mean'))\n",
    "    .reset_index()\n",
    ")\n",
    "plt.figure(figsize=(12, 6))\n",
    "sns.barplot(data=avg_call_duration, x='month', y='avg_duration', hue='plan_name')\n",
    "plt.title('Duración Promedio de Llamadas por Plan y Mes')\n",
    "plt.xlabel('Mes')\n",
    "plt.ylabel('Duración Promedio de Llamadas (Minutos)')\n",
    "plt.xticks(rotation=45) \n",
    "plt.legend(title='Plan')\n",
    "plt.tight_layout() \n",
    "\n",
    "\n",
    "plt.show()\n",
    "\n"
   ]
  },
  {
   "cell_type": "code",
   "execution_count": 180,
   "metadata": {
    "id": "QoLqW1S_0q1J"
   },
   "outputs": [
    {
     "name": "stderr",
     "output_type": "stream",
     "text": [
      "No handles with labels found to put in legend.\n"
     ]
    },
    {
     "data": {
      "image/png": "[encoded data removed]",
      "text/plain": [
       "<Figure size 1200x600 with 1 Axes>"
      ]
     },
     "metadata": {},
     "output_type": "display_data"
    }
   ],
   "source": [
    "\n",
    "summary_with_plans['total_minutes'] = summary_with_plans['total_minutes'].fillna(0).astype(float)\n",
    "total_minutes_by_user = (\n",
    "    summary_with_plans.groupby(['user_id', 'month', 'plan_name'])\n",
    "    .agg(total_minutes=('total_minutes', 'sum'))\n",
    "    .reset_index()\n",
    ")\n",
    "\n",
    "plt.figure(figsize=(12, 6))\n",
    "sns.histplot(data=total_minutes_by_user, x='total_minutes', hue='plan_name', multiple='stack', bins=20)\n",
    "plt.title('Distribución de Minutos Mensuales por Plan')\n",
    "plt.xlabel('Total de Minutos Mensuales')\n",
    "plt.ylabel('Frecuencia')\n",
    "plt.legend(title='Plan')\n",
    "plt.tight_layout()  \n",
    "\n",
    "\n",
    "plt.show()\n"
   ]
  },
  {
   "cell_type": "code",
   "execution_count": 137,
   "metadata": {
    "id": "oSndbAnt0q1K"
   },
   "outputs": [
    {
     "name": "stdout",
     "output_type": "stream",
     "text": [
      "   plan_name    month  mean_minutes  variance_minutes\n",
      "0       surf  2018-01   1854.165000      2.943636e+06\n",
      "1       surf  2018-02   4894.748889      1.794289e+07\n",
      "2       surf  2018-03   5848.999130      2.480407e+07\n",
      "3       surf  2018-04   6362.896800      2.583495e+07\n",
      "4       surf  2018-05   8092.510000      3.450323e+07\n",
      "5       surf  2018-06   8530.759381      2.726521e+07\n",
      "6       surf  2018-07   9474.572314      3.772018e+07\n",
      "7       surf  2018-08   8524.342284      3.201508e+07\n",
      "8       surf  2018-09   8388.653299      2.550171e+07\n",
      "9       surf  2018-10   9082.904810      3.209633e+07\n",
      "10      surf  2018-11   8456.026148      2.691171e+07\n",
      "11      surf  2018-12  10009.015912      3.772451e+07\n",
      "12  ultimate  2018-01   2035.290000      2.940611e+06\n",
      "13  ultimate  2018-02   8329.324286      3.961130e+07\n",
      "14  ultimate  2018-03   6477.123333      3.947058e+07\n",
      "15  ultimate  2018-04   6488.819524      2.749118e+07\n",
      "16  ultimate  2018-05   8394.301724      2.742622e+07\n",
      "17  ultimate  2018-06   7185.475957      2.701552e+07\n",
      "18  ultimate  2018-07   9042.244576      3.959370e+07\n",
      "19  ultimate  2018-08   8804.480563      2.435141e+07\n",
      "20  ultimate  2018-09   8849.595930      2.954361e+07\n",
      "21  ultimate  2018-10   9435.454434      2.913545e+07\n",
      "22  ultimate  2018-11   9044.180000      3.002361e+07\n",
      "23  ultimate  2018-12   9699.851391      3.697082e+07\n"
     ]
    }
   ],
   "source": [
    "# Calcula la media y la varianza de la duración mensual de llamadas.\n",
    "\n",
    "summary_stats = (\n",
    "    summary_with_plans.groupby(['plan_name', 'month'])\n",
    "    .agg(\n",
    "        mean_minutes=('total_minutes', 'mean'),    # Media de minutos\n",
    "        variance_minutes=('total_minutes', 'var')  # Varianza de minutos\n",
    "    )\n",
    "    .reset_index()\n",
    ")\n",
    "print(summary_stats)\n"
   ]
  },
  {
   "cell_type": "code",
   "execution_count": 138,
   "metadata": {
    "id": "nZzoRUKc0q1K"
   },
   "outputs": [
    {
     "data": {
      "image/png": "[encoded data removed]",
      "text/plain": [
       "<Figure size 1200x600 with 1 Axes>"
      ]
     },
     "metadata": {},
     "output_type": "display_data"
    }
   ],
   "source": [
    "# Traza un diagrama de caja para visualizar la distribución de la duración mensual de llamadas\n",
    "\n",
    "\n",
    "sns.set(style=\"whitegrid\")\n",
    "plt.figure(figsize=(12, 6))\n",
    "sns.boxplot(data=summary_with_plans, x='plan_name', y='total_minutes')\n",
    "plt.title('Diagrama de Caja de Duración de Llamadas por Plan')\n",
    "plt.xlabel('Plan')\n",
    "plt.ylabel('Duración Total de Llamadas (minutos)')\n",
    "\n",
    "plt.show()\n"
   ]
  },
  {
   "cell_type": "markdown",
   "metadata": {
    "id": "r627zBO50q1K"
   },
   "source": [
    "Por lo que podemos obsrvar los usuarios con el plan ultimate tiende a llamas con una mayor duracion "
   ]
  },
  {
   "cell_type": "markdown",
   "metadata": {
    "id": "8idKy8Wh0q1L"
   },
   "source": [
    "### Mensajes"
   ]
  },
  {
   "cell_type": "code",
   "execution_count": 139,
   "metadata": {
    "id": "NXLxiTit0q1L"
   },
   "outputs": [
    {
     "data": {
      "image/png": "[encoded data removed]",
      "text/plain": [
       "<Figure size 1200x600 with 1 Axes>"
      ]
     },
     "metadata": {},
     "output_type": "display_data"
    },
    {
     "name": "stdout",
     "output_type": "stream",
     "text": [
      "         id  user_id message_date    month\n",
      "0  1000_125     1000   2018-12-27  2018-12\n",
      "1  1000_160     1000   2018-12-31  2018-12\n",
      "2  1000_223     1000   2018-12-31  2018-12\n",
      "3  1000_251     1000   2018-12-27  2018-12\n",
      "4  1000_255     1000   2018-12-26  2018-12\n"
     ]
    }
   ],
   "source": [
    "# Comprara el número de mensajes que tienden a enviar cada mes los usuarios de cada plan\n",
    "\n",
    "summary_with_plans['messages_count'] = summary_with_plans['messages_count'].fillna(0)\n",
    "avg_messages_count = (\n",
    "    summary_with_plans.groupby(['month', 'plan_name'])\n",
    "    .agg(avg_messages=('messages_count', 'mean'))\n",
    "    .reset_index()\n",
    ")\n",
    "plt.figure(figsize=(12, 6))\n",
    "sns.barplot(data=avg_messages_count, x='month', y='avg_messages', hue='plan_name')\n",
    "plt.title('Promedio de Mensajes por Plan y Mes')\n",
    "plt.xlabel('Mes')\n",
    "plt.ylabel('Promedio de Mensajes Enviados')\n",
    "plt.xticks(rotation=45) \n",
    "plt.legend(title='Plan')\n",
    "plt.tight_layout() \n",
    "\n",
    "plt.show()\n",
    "print(messages.head())\n"
   ]
  },
  {
   "cell_type": "code",
   "execution_count": 147,
   "metadata": {
    "id": "dtFwCGAp0q1M"
   },
   "outputs": [
    {
     "data": {
      "image/png": "[encoded data removed]",
      "text/plain": [
       "<Figure size 1200x600 with 1 Axes>"
      ]
     },
     "metadata": {},
     "output_type": "display_data"
    },
    {
     "name": "stdout",
     "output_type": "stream",
     "text": [
      "   plan_name    month  mean_messages  variance_messsages\n",
      "0       surf  2018-01    1386.000000        3.841992e+06\n",
      "1       surf  2018-02    4765.333333        9.149819e+07\n",
      "2       surf  2018-03    7180.521739        1.373496e+08\n",
      "3       surf  2018-04    7791.740000        1.314975e+08\n",
      "4       surf  2018-05   13079.948052        3.997735e+08\n",
      "5       surf  2018-06   12628.000000        3.141052e+08\n",
      "6       surf  2018-07   14367.685950        3.500799e+08\n",
      "7       surf  2018-08   15027.672840        3.744946e+08\n",
      "8       surf  2018-09   15581.855670        3.914551e+08\n",
      "9       surf  2018-10   18052.599156        5.299259e+08\n",
      "10      surf  2018-11   16322.939929        3.948754e+08\n",
      "11      surf  2018-12   21669.845912        6.952273e+08\n",
      "12  ultimate  2018-01    3101.750000        1.758480e+07\n",
      "13  ultimate  2018-02   11192.714286        2.187402e+08\n",
      "14  ultimate  2018-03    9917.750000        1.800094e+08\n",
      "15  ultimate  2018-04    7237.571429        8.743746e+07\n",
      "16  ultimate  2018-05   18420.413793        6.063736e+08\n",
      "17  ultimate  2018-06   14438.361702        3.869641e+08\n",
      "18  ultimate  2018-07   18539.864407        4.894030e+08\n",
      "19  ultimate  2018-08   21392.845070        4.684454e+08\n",
      "20  ultimate  2018-09   19754.139535        4.806992e+08\n",
      "21  ultimate  2018-10   22370.792453        5.396617e+08\n",
      "22  ultimate  2018-11   20921.196850        4.977513e+08\n",
      "23  ultimate  2018-12   24315.715232        6.670369e+08\n"
     ]
    }
   ],
   "source": [
    "summary_stats = (\n",
    "    summary_with_plans.groupby(['plan_name', 'month'])\n",
    "    .agg(\n",
    "        mean_messages=('messages_count', 'mean'),    # Media de minutos\n",
    "        variance_messsages=('messages_count', 'var')  # Varianza de minutos\n",
    "    )\n",
    "    .reset_index()\n",
    ")\n",
    "\n",
    "sns.set(style=\"whitegrid\")\n",
    "plt.figure(figsize=(12, 6))\n",
    "sns.boxplot(data=summary_with_plans, x='plan_name', y='messages_count')\n",
    "plt.title('Diagrama de Caja de Mensajes por Plan')\n",
    "plt.xlabel('Plan')\n",
    "plt.ylabel('Cantidad de Mensajes')\n",
    "\n",
    "plt.show()\n",
    "\n",
    "print(summary_stats)"
   ]
  },
  {
   "cell_type": "code",
   "execution_count": 184,
   "metadata": {
    "id": "GRI_R7xF0q1L"
   },
   "outputs": [
    {
     "name": "stderr",
     "output_type": "stream",
     "text": [
      "No handles with labels found to put in legend.\n"
     ]
    },
    {
     "data": {
      "image/png": "[encoded data removed]",
      "text/plain": [
       "<Figure size 1200x600 with 1 Axes>"
      ]
     },
     "metadata": {},
     "output_type": "display_data"
    }
   ],
   "source": [
    "summary_with_plans['messages_count'] = summary_with_plans['messages_count'].fillna(0).astype(float)\n",
    "total_minutes_by_user = (\n",
    "    summary_with_plans.groupby(['user_id', 'month', 'plan_name'])\n",
    "    .agg(total_minutes=('messages_count', 'sum'))\n",
    "    .reset_index()\n",
    ")\n",
    "\n",
    "plt.figure(figsize=(12, 6))\n",
    "sns.histplot(data=total_minutes_by_user, x='total_minutes', hue='plan_name', multiple='stack', bins=10)\n",
    "plt.title('Distribución de Mensajes Mensuales por Plan')\n",
    "plt.xlabel('Total de Mensajes Mensuales')\n",
    "plt.ylabel('Frecuencia')\n",
    "plt.legend(title='Plan')\n",
    "plt.tight_layout()  \n",
    "\n",
    "\n",
    "plt.show()"
   ]
  },
  {
   "cell_type": "markdown",
   "metadata": {
    "id": "390SSL480q1M"
   },
   "source": [
    "En general los usuarios de el plan \"ultimate\" utilizan en mayor proporcion el servicio de mensajeria "
   ]
  },
  {
   "cell_type": "markdown",
   "metadata": {
    "id": "42YSypXz0q1M"
   },
   "source": [
    "### Internet"
   ]
  },
  {
   "cell_type": "code",
   "execution_count": 142,
   "metadata": {
    "id": "lSuKPtjh0q1M"
   },
   "outputs": [
    {
     "data": {
      "image/png": "[encoded data removed]",
      "text/plain": [
       "<Figure size 1200x600 with 1 Axes>"
      ]
     },
     "metadata": {},
     "output_type": "display_data"
    },
    {
     "name": "stdout",
     "output_type": "stream",
     "text": [
      "         id  user_id message_date    month\n",
      "0  1000_125     1000   2018-12-27  2018-12\n",
      "1  1000_160     1000   2018-12-31  2018-12\n",
      "2  1000_223     1000   2018-12-31  2018-12\n",
      "3  1000_251     1000   2018-12-27  2018-12\n",
      "4  1000_255     1000   2018-12-26  2018-12\n"
     ]
    }
   ],
   "source": [
    "\n",
    "summary_with_plans['usage_mb'] = summary_with_plans['usage_mb'].fillna(0)\n",
    "avg_internet = (\n",
    "    summary_with_plans.groupby(['month', 'plan_name'])\n",
    "    .agg(avg_messages=('usage_mb', 'mean'))\n",
    "    .reset_index()\n",
    ")\n",
    "plt.figure(figsize=(12, 6))\n",
    "sns.barplot(data=avg_internet, x='month', y='avg_messages', hue='plan_name')\n",
    "plt.title('Promedio de MB por Plan y Mes')\n",
    "plt.xlabel('Mes')\n",
    "plt.ylabel('Promedio de MB usados')\n",
    "plt.xticks(rotation=45) \n",
    "plt.legend(title='Plan')\n",
    "plt.tight_layout() \n",
    "\n",
    "plt.show()"
   ]
  },
  {
   "cell_type": "code",
   "execution_count": 146,
   "metadata": {
    "id": "wnh8jYXi0q1N"
   },
   "outputs": [
    {
     "name": "stderr",
     "output_type": "stream",
     "text": [
      "No handles with labels found to put in legend.\n"
     ]
    },
    {
     "data": {
      "image/png": "[encoded data removed]",
      "text/plain": [
       "<Figure size 1200x600 with 1 Axes>"
      ]
     },
     "metadata": {},
     "output_type": "display_data"
    }
   ],
   "source": [
    "summary_with_plans['usage_mb'] = summary_with_plans['usage_mb'].fillna(0).astype(float)\n",
    "total_minutes_by_user = (\n",
    "    summary_with_plans.groupby(['user_id', 'month', 'plan_name'])\n",
    "    .agg(total_minutes=('usage_mb', 'sum'))\n",
    "    .reset_index()\n",
    ")\n",
    "\n",
    "plt.figure(figsize=(12, 6))\n",
    "sns.histplot(data=total_minutes_by_user, x='total_minutes', hue='plan_name', multiple='stack', bins=20)\n",
    "plt.title('Distribución de MB Mensuales por Plan')\n",
    "plt.xlabel('Total de MB Mensuales')\n",
    "plt.ylabel('Frecuencia')\n",
    "plt.legend(title='Plan')\n",
    "plt.tight_layout()  \n",
    "\n",
    "\n",
    "plt.show()"
   ]
  },
  {
   "cell_type": "code",
   "execution_count": 148,
   "metadata": {
    "id": "5VlyJ9ry0q1N"
   },
   "outputs": [
    {
     "data": {
      "image/png": "[encoded data removed]",
      "text/plain": [
       "<Figure size 1200x600 with 1 Axes>"
      ]
     },
     "metadata": {},
     "output_type": "display_data"
    },
    {
     "name": "stdout",
     "output_type": "stream",
     "text": [
      "   plan_name    month  mean_messages  variance_messsages\n",
      "0       surf  2018-01   57643.000000        2.768424e+09\n",
      "1       surf  2018-02  227910.666667        1.813493e+10\n",
      "2       surf  2018-03  297353.521739        4.963519e+10\n",
      "3       surf  2018-04  280034.060000        5.367292e+10\n",
      "4       surf  2018-05  349156.597403        6.159713e+10\n",
      "5       surf  2018-06  380637.309278        4.963154e+10\n",
      "6       surf  2018-07  431034.520661        6.523292e+10\n",
      "7       surf  2018-08  418462.598765        7.000819e+10\n",
      "8       surf  2018-09  394656.005155        4.734411e+10\n",
      "9       surf  2018-10  431805.784810        6.412151e+10\n",
      "10      surf  2018-11  392517.318021        5.001580e+10\n",
      "11      surf  2018-12  446652.641509        6.393506e+10\n",
      "12  ultimate  2018-01   96492.000000        6.175292e+09\n",
      "13  ultimate  2018-02  390027.000000        6.303229e+10\n",
      "14  ultimate  2018-03  395866.083333        1.271975e+11\n",
      "15  ultimate  2018-04  339287.809524        6.622839e+10\n",
      "16  ultimate  2018-05  398053.241379        4.464975e+10\n",
      "17  ultimate  2018-06  356386.787234        5.967333e+10\n",
      "18  ultimate  2018-07  393262.525424        5.987341e+10\n",
      "19  ultimate  2018-08  440267.535211        5.313416e+10\n",
      "20  ultimate  2018-09  401786.616279        4.666534e+10\n",
      "21  ultimate  2018-10  434252.216981        4.651965e+10\n",
      "22  ultimate  2018-11  415369.291339        4.774427e+10\n",
      "23  ultimate  2018-12  446999.900662        5.663147e+10\n"
     ]
    }
   ],
   "source": [
    "summary_stats = (\n",
    "    summary_with_plans.groupby(['plan_name', 'month'])\n",
    "    .agg(\n",
    "        mean_messages=('usage_mb', 'mean'),    # Media de minutos\n",
    "        variance_messsages=('usage_mb', 'var')  # Varianza de minutos\n",
    "    )\n",
    "    .reset_index()\n",
    ")\n",
    "\n",
    "sns.set(style=\"whitegrid\")\n",
    "plt.figure(figsize=(12, 6))\n",
    "sns.boxplot(data=summary_with_plans, x='plan_name', y='usage_mb')\n",
    "plt.title('Diagrama de Caja de MB por Plan')\n",
    "plt.xlabel('Plan')\n",
    "plt.ylabel('Cantidad de MB')\n",
    "\n",
    "plt.show()\n",
    "\n",
    "print(summary_stats)"
   ]
  },
  {
   "cell_type": "markdown",
   "metadata": {
    "id": "UN9zwuMP0q1N"
   },
   "source": [
    "Parece que, en general, se encuentran muy cercanos los consumos de ambos grupos en fechas recientes. La tendencia de los usuarios \"ultimate\" en el pasado tendía a usar un poco más de datos en algunos momentos."
   ]
  },
  {
   "cell_type": "markdown",
   "metadata": {
    "id": "tCijq3260q1N"
   },
   "source": [
    "## Ingreso"
   ]
  },
  {
   "cell_type": "code",
   "execution_count": 158,
   "metadata": {
    "id": "tz-dq_V00q1O"
   },
   "outputs": [
    {
     "name": "stdout",
     "output_type": "stream",
     "text": [
      "Estadísticas Descriptivas de los Ingresos Mensuales por Plan:\n",
      "            count         mean          std   min          25%          50%  \\\n",
      "plan_name                                                                     \n",
      "surf       1573.0  4582.488059  2855.140488  20.0  2692.602950  4742.164169   \n",
      "ultimate    720.0  2958.961306  1737.280106  70.0  1908.850948  2926.922171   \n",
      "\n",
      "                   75%           max  \n",
      "plan_name                             \n",
      "surf       6202.568475  25138.238825  \n",
      "ultimate   3872.563262   8843.864406  \n"
     ]
    }
   ],
   "source": [
    "data = summary_with_plans[['plan_name', 'total_monthly_cost']]\n",
    "stats_per_plan = data.groupby('plan_name')['total_monthly_cost'].describe()\n",
    "print(\"Estadísticas Descriptivas de los Ingresos Mensuales por Plan:\")\n",
    "print(stats_per_plan)\n"
   ]
  },
  {
   "cell_type": "code",
   "execution_count": 160,
   "metadata": {
    "id": "0Y1v8ZUz0q1P"
   },
   "outputs": [
    {
     "data": {
      "image/png": "[encoded data removed]",
      "text/plain": [
       "<Figure size 1000x600 with 1 Axes>"
      ]
     },
     "metadata": {},
     "output_type": "display_data"
    }
   ],
   "source": [
    "plt.figure(figsize=(10, 6))\n",
    "sns.boxplot(data=summary_with_plans, x='plan_name', y='total_monthly_cost')\n",
    "plt.title('Distribución de Ingresos Mensuales por Plan')\n",
    "plt.xlabel('Plan')\n",
    "plt.ylabel('Ingreso Mensual (USD)')\n",
    "plt.show()\n",
    "\n"
   ]
  },
  {
   "cell_type": "markdown",
   "metadata": {
    "id": "KAFidcXZ0q1P"
   },
   "source": [
    "Los servicios adicionales a los inclidos aumentan el ingreso que proporciona este plan "
   ]
  },
  {
   "cell_type": "markdown",
   "metadata": {
    "id": "ajJ7VKeI0q1Q"
   },
   "source": [
    "## Prueba las hipótesis estadísticas"
   ]
  },
  {
   "cell_type": "code",
   "execution_count": 164,
   "metadata": {
    "id": "nFoPNlPq0q1R"
   },
   "outputs": [
    {
     "name": "stdout",
     "output_type": "stream",
     "text": [
      "Ingreso medio - Ultimate: 2958.96\n",
      "Ingreso medio - Surf: 4582.49\n",
      "T-statistic: -16.7684\n",
      "P-value: 0.0000\n",
      "Rechazamos la hipótesis nula: Los ingresos promedio son significativamente diferentes.\n"
     ]
    }
   ],
   "source": [
    "ultimate_income = summary_with_plans[summary_with_plans['plan_name'] == 'ultimate']['total_monthly_cost']\n",
    "surf_income = summary_with_plans[summary_with_plans['plan_name'] == 'surf']['total_monthly_cost']\n",
    "print(f\"Ingreso medio - Ultimate: {ultimate_income.mean():.2f}\")\n",
    "print(f\"Ingreso medio - Surf: {surf_income.mean():.2f}\")\n",
    "t_stat, p_value = stats.ttest_ind(ultimate_income, surf_income, equal_var=False)\n",
    "print(f\"T-statistic: {t_stat:.4f}\")\n",
    "print(f\"P-value: {p_value:.4f}\")\n",
    "if p_value < alpha:\n",
    "    print(\"Rechazamos la hipótesis nula: Los ingresos promedio son significativamente diferentes.\")\n",
    "else:\n",
    "    print(\"No podemos rechazar la hipótesis nula: No hay evidencia suficiente para afirmar que los ingresos promedio son diferentes.\")\n",
    "\n"
   ]
  },
  {
   "cell_type": "code",
   "execution_count": 177,
   "metadata": {
    "id": "Cqcj7wrZ0q1S"
   },
   "outputs": [
    {
     "name": "stdout",
     "output_type": "stream",
     "text": [
      "Ingreso medio - NY-NJ: 28.62\n",
      "Ingreso medio - Otras regiones: 37.09\n",
      "\n",
      "T-statistic: -7.6008\n",
      "P-value: 0.0000\n",
      "Rechazamos la hipótesis nula: Los ingresos promedio son significativamente diferentes.\n"
     ]
    }
   ],
   "source": [
    "ny_nj_income = summary_with_plans[\n",
    "    summary_with_plans['city'].str.contains('New York|Jersey', case=False, na=False)\n",
    "]['usd_monthly_pay']\n",
    "\n",
    "other_regions_income = summary_with_plans[\n",
    "    ~summary_with_plans['city'].str.contains('New York|Jersey', case=False, na=False)\n",
    "]['usd_monthly_pay']\n",
    "print(f\"Ingreso medio - NY-NJ: {ny_nj_income.mean():.2f}\")\n",
    "print(f\"Ingreso medio - Otras regiones: {other_regions_income.mean():.2f}\")\n",
    "t_stat, p_value = stats.ttest_ind(ny_nj_income, other_regions_income, equal_var=False)\n",
    "print(f\"\\nT-statistic: {t_stat:.4f}\")\n",
    "print(f\"P-value: {p_value:.4f}\")\n",
    "alpha = 0.05  # Nivel de significancia\n",
    "if p_value < alpha:\n",
    "    print(\"Rechazamos la hipótesis nula: Los ingresos promedio son significativamente diferentes.\")\n",
    "else:\n",
    "    print(\"No podemos rechazar la hipótesis nula: No hay evidencia suficiente para afirmar que los ingresos promedio son diferentes.\")\n"
   ]
  },
  {
   "cell_type": "markdown",
   "metadata": {
    "id": "bbTR8UQO0q1T"
   },
   "source": [
    "## Conclusión general\n",
    "Podemos concluir que el plan que generará mayores ingresos para la empresa será el \"sturf\". A lo largo del proyecto, hemos observado que los consumos de ambos grupos están muy cercanos en fechas recientes. Sin embargo, es interesante notar que, en el pasado, los usuarios del plan \"ultimate\" tendían a utilizar un poco más de datos en ciertos momentos, lo que sugiere que hay oportunidades para optimizar ambos planes.\n",
    "\n",
    "La forma en que se redondean los valores y los patrones de consumo de los usuarios del plan \"sturf\" están evolucionando y, según nuestras proyecciones, tenderán a igualarse con los usuarios que prefieren el pago de \"ultimate\". Esto indica que los consumidores están interesados en las características y beneficios que ofrece el plan \"sturf\", lo cual es una señal positiva para su adopción.\n",
    "\n",
    "Uno de los factores más significativos que influye en la elección de los usuarios es el pago fijo mensual. Este modelo proporciona una previsibilidad financiera que muchos consumidores valoran, ya que les permite planificar su presupuesto sin sorpresas. Además, los beneficios adicionales que el plan \"sturf\" proporciona son atractivos y fomentan el uso de servicios complementarios. Este uso adicional de servicios puede no solo satisfacer mejor las necesidades de los usuarios, sino que también puede ayudar a la empresa a superar los ingresos generados por el plan \"ultimate\".\n",
    "\n",
    "Dado este análisis, recomendaría que el departamento de mercadotecnia, mencionado al inicio de este proyecto, concentre sus esfuerzos en promover el plan \"sturf\". La estrategia de marketing podría enfocarse en resaltar los beneficios del pago fijo y la experiencia positiva de los usuarios actuales del plan. Implementar campañas de publicidad que destaquen testimonios de clientes satisfechos también podría ser una excelente forma de atraer nuevos usuarios.\n",
    "\n",
    "Además, sería beneficioso realizar un seguimiento continuo de los patrones de consumo de ambos grupos para ajustar nuestras estrategias y mejorar constantemente la propuesta de valor de ambos planes. Al hacerlo, no solo maximizaremos los ingresos de la empresa, sino que también mejoraremos la satisfacción del cliente, lo que a largo plazo puede resultar en una mayor fidelización y en el crecimiento sostenible de la empresa.\n",
    "\n"
   ]
  }
 ],
 "metadata": {
  "ExecuteTimeLog": [
   {
    "duration": 828,
    "start_time": "2021-11-16T09:21:11.304Z"
   },
   {
    "duration": 893,
    "start_time": "2021-11-16T09:21:17.728Z"
   },
   {
    "duration": 1150,
    "start_time": "2021-11-16T09:21:29.568Z"
   },
   {
    "duration": 3,
    "start_time": "2021-11-16T09:24:14.495Z"
   },
   {
    "duration": 120,
    "start_time": "2021-11-16T09:24:46.630Z"
   },
   {
    "duration": 3,
    "start_time": "2021-11-16T09:28:27.882Z"
   },
   {
    "duration": 4,
    "start_time": "2021-11-16T09:29:54.281Z"
   },
   {
    "duration": 3,
    "start_time": "2021-11-16T09:30:45.936Z"
   },
   {
    "duration": 4,
    "start_time": "2021-11-16T09:31:06.300Z"
   },
   {
    "duration": 113,
    "start_time": "2021-11-16T09:31:37.208Z"
   },
   {
    "duration": 143,
    "start_time": "2021-11-16T09:31:48.656Z"
   },
   {
    "duration": 98,
    "start_time": "2021-11-16T09:31:55.678Z"
   },
   {
    "duration": 3,
    "start_time": "2021-11-16T09:32:08.535Z"
   },
   {
    "duration": 111,
    "start_time": "2021-11-16T09:32:10.120Z"
   },
   {
    "duration": 3,
    "start_time": "2021-11-16T09:32:15.732Z"
   },
   {
    "duration": 4,
    "start_time": "2021-11-16T09:32:29.423Z"
   },
   {
    "duration": 3,
    "start_time": "2021-11-16T10:03:03.074Z"
   },
   {
    "duration": 3,
    "start_time": "2021-11-16T10:10:01.288Z"
   },
   {
    "duration": 3,
    "start_time": "2021-11-16T10:10:46.923Z"
   },
   {
    "duration": 121,
    "start_time": "2021-11-16T10:37:46.494Z"
   },
   {
    "duration": 125,
    "start_time": "2021-11-16T10:38:20.632Z"
   },
   {
    "duration": 112,
    "start_time": "2021-11-16T10:46:53.001Z"
   },
   {
    "duration": 110,
    "start_time": "2021-11-16T10:48:25.775Z"
   },
   {
    "duration": 3,
    "start_time": "2021-11-16T10:50:18.720Z"
   },
   {
    "duration": 4,
    "start_time": "2021-11-16T10:50:37.649Z"
   },
   {
    "duration": 2,
    "start_time": "2021-11-16T10:50:51.884Z"
   },
   {
    "duration": 3,
    "start_time": "2021-11-16T10:51:56.237Z"
   },
   {
    "duration": 101,
    "start_time": "2021-11-16T10:53:13.791Z"
   },
   {
    "duration": 3,
    "start_time": "2021-11-16T10:55:59.186Z"
   },
   {
    "duration": 3,
    "start_time": "2021-11-16T10:56:10.751Z"
   },
   {
    "duration": 3,
    "start_time": "2021-11-16T10:56:49.038Z"
   },
   {
    "duration": 3,
    "start_time": "2021-11-16T10:56:49.174Z"
   },
   {
    "duration": 4,
    "start_time": "2021-11-16T10:56:49.414Z"
   },
   {
    "duration": 3,
    "start_time": "2021-11-16T10:56:49.680Z"
   },
   {
    "duration": 3,
    "start_time": "2021-11-16T10:56:50.370Z"
   },
   {
    "duration": 114,
    "start_time": "2021-11-16T10:59:34.518Z"
   },
   {
    "duration": 3,
    "start_time": "2021-11-16T11:01:41.201Z"
   },
   {
    "duration": 116,
    "start_time": "2021-11-16T11:01:48.754Z"
   },
   {
    "duration": 3,
    "start_time": "2021-11-16T11:02:16.685Z"
   },
   {
    "duration": 3,
    "start_time": "2021-11-16T11:02:19.479Z"
   },
   {
    "duration": 3,
    "start_time": "2021-11-16T11:02:47.067Z"
   },
   {
    "duration": 3,
    "start_time": "2021-11-16T11:02:49.353Z"
   },
   {
    "duration": 3,
    "start_time": "2021-11-16T11:03:07.835Z"
   },
   {
    "duration": 3,
    "start_time": "2021-11-16T11:03:07.953Z"
   },
   {
    "duration": 112,
    "start_time": "2021-11-16T11:07:52.072Z"
   },
   {
    "duration": 187,
    "start_time": "2021-11-16T11:09:23.468Z"
   },
   {
    "duration": 4,
    "start_time": "2021-11-16T11:10:01.455Z"
   },
   {
    "duration": 3,
    "start_time": "2021-11-16T11:10:05.069Z"
   },
   {
    "duration": 4,
    "start_time": "2021-11-16T11:10:13.376Z"
   },
   {
    "duration": 3,
    "start_time": "2021-11-16T11:10:14.434Z"
   },
   {
    "duration": 3,
    "start_time": "2021-11-16T11:10:22.853Z"
   },
   {
    "duration": 4,
    "start_time": "2021-11-16T11:27:29.279Z"
   },
   {
    "duration": 4,
    "start_time": "2021-11-16T11:29:08.919Z"
   },
   {
    "duration": 118,
    "start_time": "2021-11-16T11:29:46.703Z"
   },
   {
    "duration": 437,
    "start_time": "2021-11-16T11:36:02.181Z"
   },
   {
    "duration": 157,
    "start_time": "2021-11-16T11:36:14.388Z"
   },
   {
    "duration": 207,
    "start_time": "2021-11-16T11:47:15.898Z"
   },
   {
    "duration": 3,
    "start_time": "2021-11-16T11:53:52.092Z"
   },
   {
    "duration": 3,
    "start_time": "2021-11-16T11:53:52.236Z"
   },
   {
    "duration": 3,
    "start_time": "2021-11-16T11:59:12.005Z"
   },
   {
    "duration": 112,
    "start_time": "2021-11-16T12:00:33.446Z"
   },
   {
    "duration": 3,
    "start_time": "2021-11-16T12:02:14.453Z"
   },
   {
    "duration": 3,
    "start_time": "2021-11-16T12:02:39.512Z"
   },
   {
    "duration": 106,
    "start_time": "2021-11-16T12:03:03.460Z"
   },
   {
    "duration": 3,
    "start_time": "2021-11-17T20:37:21.139Z"
   },
   {
    "duration": 3,
    "start_time": "2021-11-17T20:37:22.229Z"
   },
   {
    "duration": 3,
    "start_time": "2021-11-17T20:38:38.806Z"
   },
   {
    "duration": 3,
    "start_time": "2021-11-17T20:38:41.958Z"
   },
   {
    "duration": 3,
    "start_time": "2021-11-17T20:43:46.551Z"
   },
   {
    "duration": 4,
    "start_time": "2021-11-17T20:58:21.835Z"
   },
   {
    "duration": 3,
    "start_time": "2021-11-17T20:59:21.872Z"
   },
   {
    "duration": 4,
    "start_time": "2021-11-17T20:59:45.352Z"
   },
   {
    "duration": 4,
    "start_time": "2021-11-17T20:59:49.646Z"
   },
   {
    "duration": 159,
    "start_time": "2021-11-17T21:02:26.949Z"
   },
   {
    "duration": 3,
    "start_time": "2021-11-17T21:03:53.461Z"
   },
   {
    "duration": 3,
    "start_time": "2021-11-17T21:03:53.694Z"
   },
   {
    "duration": 3,
    "start_time": "2021-11-17T21:05:28.145Z"
   },
   {
    "duration": 116,
    "start_time": "2021-11-17T21:05:57.787Z"
   },
   {
    "duration": 3,
    "start_time": "2021-11-17T21:06:37.993Z"
   },
   {
    "duration": 3,
    "start_time": "2021-11-17T21:06:38.261Z"
   },
   {
    "duration": 3,
    "start_time": "2021-11-17T21:11:54.358Z"
   },
   {
    "duration": 3,
    "start_time": "2021-11-17T21:12:43.846Z"
   },
   {
    "duration": 4,
    "start_time": "2021-11-17T21:13:08.773Z"
   },
   {
    "duration": 3,
    "start_time": "2021-11-17T21:14:44.441Z"
   },
   {
    "duration": 3,
    "start_time": "2021-11-17T21:15:42.059Z"
   },
   {
    "duration": 4,
    "start_time": "2021-11-17T21:15:51.995Z"
   },
   {
    "duration": 3,
    "start_time": "2021-11-17T21:15:53.923Z"
   },
   {
    "duration": 3,
    "start_time": "2021-11-17T21:15:55.282Z"
   },
   {
    "duration": 3,
    "start_time": "2021-11-17T21:16:28.492Z"
   },
   {
    "duration": 3,
    "start_time": "2021-11-17T21:16:32.603Z"
   },
   {
    "duration": 3,
    "start_time": "2021-11-17T21:17:06.941Z"
   },
   {
    "duration": 98,
    "start_time": "2021-11-17T21:18:05.733Z"
   },
   {
    "duration": 4,
    "start_time": "2021-11-17T21:21:35.255Z"
   },
   {
    "duration": 3,
    "start_time": "2021-11-17T21:21:37.804Z"
   },
   {
    "duration": 4,
    "start_time": "2021-11-17T21:23:06.071Z"
   },
   {
    "duration": 3,
    "start_time": "2021-11-17T21:23:24.799Z"
   },
   {
    "duration": 3,
    "start_time": "2021-11-17T21:23:32.591Z"
   },
   {
    "duration": 98,
    "start_time": "2021-11-17T21:28:31.559Z"
   },
   {
    "duration": 3,
    "start_time": "2021-11-17T21:28:45.448Z"
   },
   {
    "duration": 3,
    "start_time": "2021-11-17T21:29:17.303Z"
   },
   {
    "duration": 3,
    "start_time": "2021-11-17T21:29:29.617Z"
   },
   {
    "duration": 3,
    "start_time": "2021-11-17T21:29:32.681Z"
   },
   {
    "duration": 3,
    "start_time": "2021-11-17T21:36:11.474Z"
   },
   {
    "duration": 3,
    "start_time": "2021-11-17T21:36:14.791Z"
   },
   {
    "duration": 3,
    "start_time": "2021-11-17T21:36:53.943Z"
   },
   {
    "duration": 3,
    "start_time": "2021-11-17T21:36:56.165Z"
   },
   {
    "duration": 4,
    "start_time": "2021-11-17T21:37:16.590Z"
   },
   {
    "duration": 3,
    "start_time": "2021-11-17T21:37:22.702Z"
   },
   {
    "duration": 4,
    "start_time": "2021-11-17T21:38:03.479Z"
   },
   {
    "duration": 3,
    "start_time": "2021-11-17T21:38:08.601Z"
   },
   {
    "duration": 3,
    "start_time": "2021-11-17T21:38:12.928Z"
   },
   {
    "duration": 3,
    "start_time": "2021-11-17T21:38:48.896Z"
   },
   {
    "duration": 2,
    "start_time": "2021-11-17T21:38:49.171Z"
   },
   {
    "duration": 4,
    "start_time": "2021-11-17T21:39:57.889Z"
   },
   {
    "duration": 3,
    "start_time": "2021-11-17T21:39:58.057Z"
   },
   {
    "duration": 3,
    "start_time": "2021-11-17T21:41:20.108Z"
   },
   {
    "duration": 3,
    "start_time": "2021-11-17T21:41:20.629Z"
   },
   {
    "duration": 3,
    "start_time": "2021-11-17T21:42:49.136Z"
   },
   {
    "duration": 3,
    "start_time": "2021-11-17T21:43:15.137Z"
   },
   {
    "duration": 4,
    "start_time": "2021-11-17T21:43:16.766Z"
   },
   {
    "duration": 4,
    "start_time": "2021-11-17T21:43:31.711Z"
   },
   {
    "duration": 3,
    "start_time": "2021-11-17T21:43:36.312Z"
   },
   {
    "duration": 4,
    "start_time": "2021-11-17T21:45:08.825Z"
   },
   {
    "duration": 4,
    "start_time": "2021-11-17T21:45:10.119Z"
   },
   {
    "duration": 4,
    "start_time": "2021-11-17T21:45:13.748Z"
   },
   {
    "duration": 3,
    "start_time": "2021-11-17T21:45:22.219Z"
   },
   {
    "duration": 3,
    "start_time": "2021-11-17T21:45:33.412Z"
   },
   {
    "duration": 2,
    "start_time": "2021-11-17T21:46:01.885Z"
   },
   {
    "duration": 3,
    "start_time": "2021-11-17T21:46:03.628Z"
   },
   {
    "duration": 107,
    "start_time": "2021-11-17T21:47:32.512Z"
   },
   {
    "duration": 103,
    "start_time": "2021-11-17T21:50:36.243Z"
   },
   {
    "duration": 3,
    "start_time": "2021-11-18T06:28:31.440Z"
   },
   {
    "duration": 3,
    "start_time": "2021-11-18T06:29:00.168Z"
   },
   {
    "duration": 3,
    "start_time": "2021-11-18T06:31:27.008Z"
   },
   {
    "duration": 2,
    "start_time": "2021-11-18T06:35:34.288Z"
   },
   {
    "duration": 2,
    "start_time": "2021-11-18T06:38:04.527Z"
   },
   {
    "duration": 2489,
    "start_time": "2024-10-17T19:45:34.057Z"
   },
   {
    "duration": 6,
    "start_time": "2024-10-17T19:45:36.548Z"
   },
   {
    "duration": 6,
    "start_time": "2024-10-17T19:46:02.119Z"
   },
   {
    "duration": 252,
    "start_time": "2024-10-17T19:46:22.111Z"
   },
   {
    "duration": 164,
    "start_time": "2024-10-17T19:49:16.508Z"
   },
   {
    "duration": 26,
    "start_time": "2024-10-17T19:54:26.354Z"
   },
   {
    "duration": 10,
    "start_time": "2024-10-17T19:54:28.163Z"
   },
   {
    "duration": 10,
    "start_time": "2024-10-17T19:55:16.909Z"
   },
   {
    "duration": 5,
    "start_time": "2024-10-17T19:55:25.100Z"
   },
   {
    "duration": 5,
    "start_time": "2024-10-17T19:56:03.289Z"
   },
   {
    "duration": 5,
    "start_time": "2024-10-17T19:58:04.951Z"
   },
   {
    "duration": 10,
    "start_time": "2024-10-17T20:00:31.049Z"
   },
   {
    "duration": 6,
    "start_time": "2024-10-17T20:00:32.208Z"
   },
   {
    "duration": 3,
    "start_time": "2024-10-17T20:07:10.107Z"
   },
   {
    "duration": 210,
    "start_time": "2024-10-17T20:07:24.245Z"
   },
   {
    "duration": 13,
    "start_time": "2024-10-17T20:07:31.480Z"
   },
   {
    "duration": 9,
    "start_time": "2024-10-17T20:07:42.474Z"
   },
   {
    "duration": 7,
    "start_time": "2024-10-17T20:08:12.962Z"
   },
   {
    "duration": 6,
    "start_time": "2024-10-17T20:08:31.521Z"
   },
   {
    "duration": 9,
    "start_time": "2024-10-17T20:08:38.865Z"
   },
   {
    "duration": 16,
    "start_time": "2024-10-17T20:09:32.144Z"
   },
   {
    "duration": 5,
    "start_time": "2024-10-17T20:09:33.088Z"
   },
   {
    "duration": 4,
    "start_time": "2024-10-17T20:13:59.966Z"
   },
   {
    "duration": 15,
    "start_time": "2024-10-17T20:14:53.965Z"
   },
   {
    "duration": 12,
    "start_time": "2024-10-17T20:16:30.197Z"
   },
   {
    "duration": 2,
    "start_time": "2024-10-21T04:37:16.520Z"
   },
   {
    "duration": 157,
    "start_time": "2024-10-21T04:44:50.672Z"
   },
   {
    "duration": 2461,
    "start_time": "2024-10-21T04:44:57.552Z"
   },
   {
    "duration": 218,
    "start_time": "2024-10-21T04:45:00.015Z"
   },
   {
    "duration": 9,
    "start_time": "2024-10-21T04:45:00.236Z"
   },
   {
    "duration": 6,
    "start_time": "2024-10-21T04:45:00.497Z"
   },
   {
    "duration": 8,
    "start_time": "2024-10-21T04:45:05.130Z"
   },
   {
    "duration": 6,
    "start_time": "2024-10-21T04:45:05.821Z"
   },
   {
    "duration": 9,
    "start_time": "2024-10-21T04:45:08.054Z"
   },
   {
    "duration": 15,
    "start_time": "2024-10-21T04:45:11.347Z"
   },
   {
    "duration": 5,
    "start_time": "2024-10-21T04:45:11.989Z"
   },
   {
    "duration": 25,
    "start_time": "2024-10-21T04:45:15.492Z"
   },
   {
    "duration": 12,
    "start_time": "2024-10-21T04:45:40.109Z"
   },
   {
    "duration": 4,
    "start_time": "2024-10-21T04:45:53.139Z"
   },
   {
    "duration": 392,
    "start_time": "2024-10-21T04:47:35.953Z"
   },
   {
    "duration": 8,
    "start_time": "2024-10-21T04:48:11.501Z"
   },
   {
    "duration": 304,
    "start_time": "2024-10-21T04:48:45.828Z"
   },
   {
    "duration": 20,
    "start_time": "2024-10-21T04:50:09.451Z"
   },
   {
    "duration": 15,
    "start_time": "2024-10-21T04:51:04.398Z"
   },
   {
    "duration": 4,
    "start_time": "2024-10-21T04:51:16.874Z"
   },
   {
    "duration": 14,
    "start_time": "2024-10-21T04:51:56.388Z"
   },
   {
    "duration": 15,
    "start_time": "2024-10-21T04:52:15.611Z"
   },
   {
    "duration": 19,
    "start_time": "2024-10-21T04:54:53.572Z"
   },
   {
    "duration": 209,
    "start_time": "2024-10-21T04:55:53.233Z"
   },
   {
    "duration": 20,
    "start_time": "2024-10-21T04:57:04.109Z"
   },
   {
    "duration": 22,
    "start_time": "2024-10-21T04:57:21.887Z"
   },
   {
    "duration": 13,
    "start_time": "2024-10-21T05:01:21.343Z"
   },
   {
    "duration": 2477,
    "start_time": "2024-10-21T10:31:32.769Z"
   },
   {
    "duration": 216,
    "start_time": "2024-10-21T10:31:35.248Z"
   },
   {
    "duration": 10,
    "start_time": "2024-10-21T10:31:37.400Z"
   },
   {
    "duration": 7,
    "start_time": "2024-10-21T10:31:38.349Z"
   },
   {
    "duration": 9,
    "start_time": "2024-10-21T10:31:44.053Z"
   },
   {
    "duration": 6,
    "start_time": "2024-10-21T10:31:44.782Z"
   },
   {
    "duration": 11,
    "start_time": "2024-10-21T10:31:46.819Z"
   },
   {
    "duration": 17,
    "start_time": "2024-10-21T10:31:49.148Z"
   },
   {
    "duration": 5,
    "start_time": "2024-10-21T10:31:49.474Z"
   },
   {
    "duration": 26,
    "start_time": "2024-10-21T10:31:50.305Z"
   },
   {
    "duration": 12,
    "start_time": "2024-10-21T10:31:52.009Z"
   },
   {
    "duration": 5,
    "start_time": "2024-10-21T10:31:52.459Z"
   },
   {
    "duration": 20,
    "start_time": "2024-10-21T10:31:53.970Z"
   },
   {
    "duration": 13,
    "start_time": "2024-10-21T10:31:55.552Z"
   },
   {
    "duration": 5,
    "start_time": "2024-10-21T10:31:55.920Z"
   },
   {
    "duration": 13,
    "start_time": "2024-10-21T10:31:56.810Z"
   },
   {
    "duration": 19,
    "start_time": "2024-10-21T10:31:57.593Z"
   },
   {
    "duration": 2,
    "start_time": "2024-10-21T10:31:58.076Z"
   },
   {
    "duration": 564,
    "start_time": "2024-10-21T10:31:58.673Z"
   },
   {
    "duration": 10,
    "start_time": "2024-10-21T10:59:11.977Z"
   },
   {
    "duration": 41,
    "start_time": "2024-10-21T10:59:32.487Z"
   },
   {
    "duration": 18,
    "start_time": "2024-10-21T11:02:01.835Z"
   },
   {
    "duration": 17,
    "start_time": "2024-10-21T11:02:06.892Z"
   },
   {
    "duration": 15,
    "start_time": "2024-10-21T11:04:10.839Z"
   },
   {
    "duration": 13,
    "start_time": "2024-10-21T11:04:22.912Z"
   },
   {
    "duration": 128,
    "start_time": "2024-10-21T11:04:29.350Z"
   },
   {
    "duration": 24,
    "start_time": "2024-10-21T11:05:20.435Z"
   },
   {
    "duration": 8,
    "start_time": "2024-10-21T11:06:08.883Z"
   },
   {
    "duration": 40,
    "start_time": "2024-10-21T11:06:11.971Z"
   },
   {
    "duration": 15,
    "start_time": "2024-10-21T11:09:01.490Z"
   },
   {
    "duration": 24,
    "start_time": "2024-10-21T11:09:26.064Z"
   },
   {
    "duration": 6,
    "start_time": "2024-10-21T11:17:40.683Z"
   },
   {
    "duration": 45,
    "start_time": "2024-10-21T11:18:40.595Z"
   },
   {
    "duration": 97,
    "start_time": "2024-10-21T11:19:56.927Z"
   },
   {
    "duration": 218,
    "start_time": "2024-10-21T11:20:16.264Z"
   },
   {
    "duration": 12,
    "start_time": "2024-10-21T11:20:47.507Z"
   },
   {
    "duration": 22,
    "start_time": "2024-10-21T11:21:32.546Z"
   },
   {
    "duration": 45,
    "start_time": "2024-10-21T11:22:49.777Z"
   },
   {
    "duration": 15,
    "start_time": "2024-10-21T11:23:14.774Z"
   },
   {
    "duration": 40,
    "start_time": "2024-10-21T11:23:40.425Z"
   },
   {
    "duration": 50,
    "start_time": "2024-10-21T11:24:07.519Z"
   },
   {
    "duration": 49,
    "start_time": "2024-10-21T11:25:48.719Z"
   },
   {
    "duration": 21,
    "start_time": "2024-10-21T11:31:16.138Z"
   },
   {
    "duration": 26,
    "start_time": "2024-10-21T11:35:02.827Z"
   },
   {
    "duration": 25,
    "start_time": "2024-10-21T11:35:21.905Z"
   },
   {
    "duration": 30,
    "start_time": "2024-10-21T11:35:27.471Z"
   },
   {
    "duration": 10,
    "start_time": "2024-10-21T11:36:08.434Z"
   },
   {
    "duration": 41,
    "start_time": "2024-10-21T11:36:26.843Z"
   },
   {
    "duration": 18,
    "start_time": "2024-10-21T11:37:01.296Z"
   },
   {
    "duration": 13,
    "start_time": "2024-10-21T11:37:34.917Z"
   },
   {
    "duration": 21,
    "start_time": "2024-10-21T11:37:38.637Z"
   },
   {
    "duration": 16,
    "start_time": "2024-10-21T11:38:11.542Z"
   },
   {
    "duration": 10,
    "start_time": "2024-10-21T11:38:25.865Z"
   },
   {
    "duration": 27,
    "start_time": "2024-10-21T11:38:56.740Z"
   },
   {
    "duration": 33,
    "start_time": "2024-10-21T11:39:50.354Z"
   },
   {
    "duration": 12,
    "start_time": "2024-10-21T11:40:00.841Z"
   },
   {
    "duration": 4,
    "start_time": "2024-10-21T11:40:20.572Z"
   },
   {
    "duration": 12,
    "start_time": "2024-10-21T11:40:43.837Z"
   },
   {
    "duration": 13,
    "start_time": "2024-10-21T11:41:12.312Z"
   },
   {
    "duration": 25,
    "start_time": "2024-10-21T11:42:31.504Z"
   },
   {
    "duration": 111,
    "start_time": "2024-10-21T11:43:19.978Z"
   },
   {
    "duration": 11,
    "start_time": "2024-10-21T11:43:41.053Z"
   },
   {
    "duration": 10508,
    "start_time": "2024-10-21T11:44:13.671Z"
   },
   {
    "duration": 10,
    "start_time": "2024-10-21T11:48:56.197Z"
   },
   {
    "duration": 527,
    "start_time": "2024-10-21T11:52:27.818Z"
   },
   {
    "duration": 5,
    "start_time": "2024-10-21T11:53:03.104Z"
   },
   {
    "duration": 570,
    "start_time": "2024-10-21T11:57:02.006Z"
   },
   {
    "duration": 7,
    "start_time": "2024-10-21T11:58:36.684Z"
   },
   {
    "duration": 117,
    "start_time": "2024-10-21T11:59:04.534Z"
   },
   {
    "duration": 19,
    "start_time": "2024-10-21T12:00:51.708Z"
   },
   {
    "duration": 61,
    "start_time": "2024-10-21T12:01:56.194Z"
   },
   {
    "duration": 14,
    "start_time": "2024-10-21T12:02:07.842Z"
   },
   {
    "duration": 399,
    "start_time": "2024-10-21T12:04:17.113Z"
   },
   {
    "duration": 456,
    "start_time": "2024-10-21T12:05:11.729Z"
   },
   {
    "duration": 319,
    "start_time": "2024-10-21T12:07:00.695Z"
   },
   {
    "duration": 310,
    "start_time": "2024-10-21T12:08:28.279Z"
   },
   {
    "duration": 13,
    "start_time": "2024-10-21T12:09:57.738Z"
   },
   {
    "duration": 135,
    "start_time": "2024-10-21T12:12:06.648Z"
   },
   {
    "duration": 5,
    "start_time": "2024-10-21T12:17:01.990Z"
   },
   {
    "duration": 61,
    "start_time": "2024-10-21T12:18:11.260Z"
   },
   {
    "duration": 365,
    "start_time": "2024-10-21T12:19:17.864Z"
   },
   {
    "duration": 133,
    "start_time": "2024-10-21T12:19:40.392Z"
   },
   {
    "duration": 10,
    "start_time": "2024-10-21T12:24:08.562Z"
   },
   {
    "duration": 14,
    "start_time": "2024-10-21T12:27:27.655Z"
   },
   {
    "duration": 175,
    "start_time": "2024-10-21T12:28:25.432Z"
   },
   {
    "duration": 52,
    "start_time": "2024-10-21T12:28:43.859Z"
   },
   {
    "duration": 51,
    "start_time": "2024-10-21T12:30:14.555Z"
   },
   {
    "duration": 387,
    "start_time": "2024-10-21T12:31:45.427Z"
   },
   {
    "duration": 404,
    "start_time": "2024-10-21T12:33:45.605Z"
   },
   {
    "duration": 42,
    "start_time": "2024-10-21T12:35:06.678Z"
   },
   {
    "duration": 4,
    "start_time": "2024-10-21T12:35:17.395Z"
   },
   {
    "duration": 51,
    "start_time": "2024-10-21T12:35:33.395Z"
   },
   {
    "duration": 54,
    "start_time": "2024-10-21T12:36:41.911Z"
   },
   {
    "duration": 392,
    "start_time": "2024-10-21T12:40:15.013Z"
   },
   {
    "duration": 371,
    "start_time": "2024-10-21T12:44:04.466Z"
   },
   {
    "duration": 744,
    "start_time": "2024-10-21T12:44:20.376Z"
   },
   {
    "duration": 15,
    "start_time": "2024-10-21T12:46:28.392Z"
   },
   {
    "duration": 23,
    "start_time": "2024-10-21T12:46:35.257Z"
   },
   {
    "duration": 10268,
    "start_time": "2024-10-21T12:46:37.071Z"
   },
   {
    "duration": 81,
    "start_time": "2024-10-21T12:46:47.342Z"
   },
   {
    "duration": 18,
    "start_time": "2024-10-21T12:46:47.424Z"
   },
   {
    "duration": 387,
    "start_time": "2024-10-21T12:46:50.651Z"
   },
   {
    "duration": 350,
    "start_time": "2024-10-21T12:46:51.399Z"
   },
   {
    "duration": 13,
    "start_time": "2024-10-21T12:46:53.297Z"
   },
   {
    "duration": 123,
    "start_time": "2024-10-21T12:46:54.207Z"
   },
   {
    "duration": 364,
    "start_time": "2024-10-21T12:46:57.354Z"
   },
   {
    "duration": 15,
    "start_time": "2024-10-21T12:48:29.777Z"
   },
   {
    "duration": 11,
    "start_time": "2024-10-21T12:48:38.473Z"
   },
   {
    "duration": 17,
    "start_time": "2024-10-21T12:49:07.530Z"
   },
   {
    "duration": 11,
    "start_time": "2024-10-21T12:50:35.965Z"
   },
   {
    "duration": 134,
    "start_time": "2024-10-21T12:50:58.291Z"
   },
   {
    "duration": 19,
    "start_time": "2024-10-21T12:51:15.678Z"
   },
   {
    "duration": 11,
    "start_time": "2024-10-21T12:51:21.915Z"
   },
   {
    "duration": 6,
    "start_time": "2024-10-21T12:51:22.467Z"
   },
   {
    "duration": 10,
    "start_time": "2024-10-21T12:51:24.267Z"
   },
   {
    "duration": 20,
    "start_time": "2024-10-21T12:51:26.140Z"
   },
   {
    "duration": 10,
    "start_time": "2024-10-21T12:51:27.605Z"
   },
   {
    "duration": 24,
    "start_time": "2024-10-21T12:51:28.620Z"
   },
   {
    "duration": 27,
    "start_time": "2024-10-21T12:51:29.251Z"
   },
   {
    "duration": 16,
    "start_time": "2024-10-21T12:51:29.804Z"
   },
   {
    "duration": 22,
    "start_time": "2024-10-21T12:51:30.475Z"
   },
   {
    "duration": 10254,
    "start_time": "2024-10-21T12:51:31.618Z"
   },
   {
    "duration": 71,
    "start_time": "2024-10-21T12:51:41.875Z"
   },
   {
    "duration": 31,
    "start_time": "2024-10-21T12:51:41.948Z"
   },
   {
    "duration": 392,
    "start_time": "2024-10-21T12:51:41.981Z"
   },
   {
    "duration": 341,
    "start_time": "2024-10-21T12:51:42.375Z"
   },
   {
    "duration": 14,
    "start_time": "2024-10-21T12:51:44.604Z"
   },
   {
    "duration": 127,
    "start_time": "2024-10-21T12:51:45.564Z"
   },
   {
    "duration": 395,
    "start_time": "2024-10-21T12:51:48.220Z"
   },
   {
    "duration": 18,
    "start_time": "2024-10-21T12:53:21.451Z"
   },
   {
    "duration": 23,
    "start_time": "2024-10-21T12:53:22.997Z"
   },
   {
    "duration": 10844,
    "start_time": "2024-10-21T12:53:23.500Z"
   },
   {
    "duration": 87,
    "start_time": "2024-10-21T12:53:34.346Z"
   },
   {
    "duration": 18,
    "start_time": "2024-10-21T12:53:34.434Z"
   },
   {
    "duration": 372,
    "start_time": "2024-10-21T12:53:34.454Z"
   },
   {
    "duration": 366,
    "start_time": "2024-10-21T12:53:34.827Z"
   },
   {
    "duration": 13,
    "start_time": "2024-10-21T12:53:35.195Z"
   },
   {
    "duration": 136,
    "start_time": "2024-10-21T12:53:35.209Z"
   },
   {
    "duration": 377,
    "start_time": "2024-10-21T12:53:35.349Z"
   },
   {
    "duration": 398,
    "start_time": "2024-10-21T12:55:22.601Z"
   },
   {
    "duration": 389,
    "start_time": "2024-10-21T12:55:49.519Z"
   },
   {
    "duration": 388,
    "start_time": "2024-10-21T12:56:30.496Z"
   },
   {
    "duration": 329,
    "start_time": "2024-10-21T12:57:41.859Z"
   },
   {
    "duration": 14,
    "start_time": "2024-10-21T12:58:23.353Z"
   },
   {
    "duration": 14,
    "start_time": "2024-10-21T12:58:43.788Z"
   },
   {
    "duration": 373,
    "start_time": "2024-10-21T12:59:26.611Z"
   },
   {
    "duration": 133,
    "start_time": "2024-10-21T13:00:27.452Z"
   },
   {
    "duration": 136,
    "start_time": "2024-10-21T13:01:51.740Z"
   },
   {
    "duration": 10,
    "start_time": "2024-10-21T13:03:27.790Z"
   },
   {
    "duration": 25,
    "start_time": "2024-10-21T17:27:26.804Z"
   },
   {
    "duration": 12,
    "start_time": "2024-10-21T17:28:31.294Z"
   },
   {
    "duration": 18,
    "start_time": "2024-10-21T17:29:09.830Z"
   },
   {
    "duration": 67,
    "start_time": "2024-10-21T17:29:26.162Z"
   },
   {
    "duration": 41,
    "start_time": "2024-10-21T17:29:51.618Z"
   },
   {
    "duration": 53,
    "start_time": "2024-10-21T17:30:05.919Z"
   },
   {
    "duration": 52,
    "start_time": "2024-10-21T17:30:21.053Z"
   },
   {
    "duration": 11,
    "start_time": "2024-10-21T17:30:34.147Z"
   },
   {
    "duration": 12,
    "start_time": "2024-10-21T17:31:07.309Z"
   },
   {
    "duration": 43,
    "start_time": "2024-10-21T17:31:07.893Z"
   },
   {
    "duration": 119,
    "start_time": "2024-10-21T17:34:19.489Z"
   },
   {
    "duration": 23,
    "start_time": "2024-10-21T17:37:13.929Z"
   },
   {
    "duration": 19,
    "start_time": "2024-10-21T17:43:10.834Z"
   },
   {
    "duration": 3,
    "start_time": "2024-10-21T17:43:44.504Z"
   },
   {
    "duration": 9,
    "start_time": "2024-10-21T17:43:58.519Z"
   },
   {
    "duration": 55,
    "start_time": "2024-10-21T17:45:47.403Z"
   },
   {
    "duration": 10,
    "start_time": "2024-10-21T17:47:25.850Z"
   },
   {
    "duration": 59,
    "start_time": "2024-10-21T17:51:20.964Z"
   },
   {
    "duration": 62,
    "start_time": "2024-10-21T17:51:37.089Z"
   },
   {
    "duration": 49,
    "start_time": "2024-10-21T17:51:54.768Z"
   },
   {
    "duration": 43,
    "start_time": "2024-10-21T17:52:02.251Z"
   },
   {
    "duration": 10,
    "start_time": "2024-10-21T17:52:13.579Z"
   },
   {
    "duration": 9,
    "start_time": "2024-10-21T17:53:01.980Z"
   },
   {
    "duration": 11,
    "start_time": "2024-10-21T17:53:11.080Z"
   },
   {
    "duration": 11,
    "start_time": "2024-10-21T17:55:32.649Z"
   },
   {
    "duration": 10,
    "start_time": "2024-10-21T17:55:35.362Z"
   },
   {
    "duration": 12,
    "start_time": "2024-10-21T17:57:51.464Z"
   },
   {
    "duration": 12,
    "start_time": "2024-10-21T17:58:43.541Z"
   },
   {
    "duration": 21,
    "start_time": "2024-10-21T18:14:00.216Z"
   },
   {
    "duration": 336,
    "start_time": "2024-10-21T18:19:04.381Z"
   },
   {
    "duration": 353,
    "start_time": "2024-10-21T18:19:20.531Z"
   },
   {
    "duration": 348,
    "start_time": "2024-10-21T18:25:20.679Z"
   },
   {
    "duration": 325,
    "start_time": "2024-10-21T18:25:50.025Z"
   },
   {
    "duration": 283,
    "start_time": "2024-10-21T18:26:18.590Z"
   },
   {
    "duration": 310,
    "start_time": "2024-10-21T18:26:32.999Z"
   }
  ],
  "colab": {
   "provenance": []
  },
  "kernelspec": {
   "display_name": "Python 3 (ipykernel)",
   "language": "python",
   "name": "python3"
  },
  "language_info": {
   "codemirror_mode": {
    "name": "ipython",
    "version": 3
   },
   "file_extension": ".py",
   "mimetype": "text/x-python",
   "name": "python",
   "nbconvert_exporter": "python",
   "pygments_lexer": "ipython3",
   "version": "3.9.19"
  },
  "toc": {
   "base_numbering": 1,
   "nav_menu": {},
   "number_sections": true,
   "sideBar": true,
   "skip_h1_title": false,
   "title_cell": "Table of Contents",
   "title_sidebar": "Contents",
   "toc_cell": false,
   "toc_position": {},
   "toc_section_display": true,
   "toc_window_display": true
  }
 },
 "nbformat": 4,
 "nbformat_minor": 1
}
